{
  "cells": [
    {
      "cell_type": "markdown",
      "metadata": {
        "id": "view-in-github",
        "colab_type": "text"
      },
      "source": [
        "<a href=\"https://colab.research.google.com/github/suarezjw123/Machine-Learning-for-Online-Food-Delivery/blob/main/BA476Project.ipynb\" target=\"_parent\"><img src=\"https://colab.research.google.com/assets/colab-badge.svg\" alt=\"Open In Colab\"/></a>"
      ]
    },
    {
      "cell_type": "markdown",
      "metadata": {
        "id": "ufokTChqMHUC"
      },
      "source": [
        "# **BA 476 Group 9: Optimal Online Food Delivery**\n",
        "\n",
        "**Members**: Leanne Tong, Maxim Zahra, Surabhi Srikanth, Jonathan Suarez, John Markowicz, Ryan Ko, Alyssa Nusantoro"
      ]
    },
    {
      "cell_type": "code",
      "execution_count": null,
      "metadata": {
        "id": "mF1rY8m6Mf-7"
      },
      "outputs": [],
      "source": [
        "# import necessary libraries\n",
        "\n",
        "import pandas as pd\n",
        "import numpy as np\n",
        "import math\n",
        "import matplotlib.pyplot as plt\n",
        "\n",
        "# splitting data into training and testing sets\n",
        "# k-fold cross validation\n",
        "from sklearn.model_selection import train_test_split\n",
        "from sklearn.model_selection import KFold, cross_val_score, GridSearchCV\n",
        "\n",
        "# compute MSE\n",
        "from sklearn.metrics import mean_squared_error\n",
        "\n",
        "# Linear Regression and Feature Selection\n",
        "from sklearn.linear_model import LinearRegression\n",
        "from sklearn.feature_selection import SequentialFeatureSelector\n",
        "\n",
        "from sklearn.preprocessing import StandardScaler\n",
        "\n",
        "from sklearn.pipeline import make_pipeline\n",
        "\n",
        "# KNN\n",
        "from sklearn.neighbors import KNeighborsRegressor\n",
        "\n",
        "# Lasso Model and Cross Validation\n",
        "from sklearn.linear_model import Lasso\n",
        "from sklearn.linear_model import LassoCV\n",
        "\n",
        "# Ridge Model and Cross Validation\n",
        "from sklearn.linear_model import Ridge\n",
        "from sklearn.linear_model import RidgeCV\n",
        "\n",
        "# Elastic Net Model and Cross Validation\n",
        "from sklearn.linear_model import ElasticNet\n",
        "from sklearn.linear_model import ElasticNetCV\n",
        "\n",
        "# Decision Tree Model and Cross Validation\n",
        "from sklearn.ensemble import RandomForestRegressor, BaggingRegressor,AdaBoostRegressor\n",
        "from sklearn.preprocessing import LabelEncoder\n",
        "from sklearn import tree\n",
        "\n",
        "import warnings\n",
        "warnings.filterwarnings('ignore')"
      ]
    },
    {
      "cell_type": "code",
      "execution_count": null,
      "metadata": {
        "colab": {
          "base_uri": "https://localhost:8080/"
        },
        "id": "C8uQUlZyOHTe",
        "outputId": "c3c2da76-3c06-43eb-8c12-46b8fd85cd3a"
      },
      "outputs": [
        {
          "output_type": "stream",
          "name": "stdout",
          "text": [
            "Mounted at /content/drive\n"
          ]
        }
      ],
      "source": [
        "# mount from Google Drive\n",
        "from google.colab import drive\n",
        "drive.mount('/content/drive')"
      ]
    },
    {
      "cell_type": "markdown",
      "metadata": {
        "id": "o_dBWY2yKUsj"
      },
      "source": [
        "# Data Cleaning"
      ]
    },
    {
      "cell_type": "code",
      "execution_count": null,
      "metadata": {
        "colab": {
          "base_uri": "https://localhost:8080/",
          "height": 258
        },
        "id": "Q8M7JJJEOQnI",
        "outputId": "d8788f2a-3f04-4859-f630-973dca10fda1"
      },
      "outputs": [
        {
          "output_type": "stream",
          "name": "stdout",
          "text": [
            "(2442, 20)\n"
          ]
        },
        {
          "output_type": "execute_result",
          "data": {
            "text/plain": [
              "   Unnamed: 0        ID Delivery_person_ID  Delivery_person_Age  \\\n",
              "0           1  0x4607_x     INDORES13DEL02                   37   \n",
              "1           2  0xb379_x     BANGRES18DEL02                   34   \n",
              "2           3  0x20f7_x     BANGRES18DEL01                   37   \n",
              "3           4  0x7804_x      HYDRES13DEL02                   28   \n",
              "4           5  0x7faf_x   RANCHIRES07DEL01                   37   \n",
              "\n",
              "   Delivery_person_Ratings  Restaurant_latitude  Restaurant_longitude  \\\n",
              "0                      4.9            22.745049             75.892471   \n",
              "1                      4.5            12.913041             77.683237   \n",
              "2                      4.4            12.913041             77.683237   \n",
              "3                      4.9            17.431477             78.400350   \n",
              "4                      4.6            23.359407             85.325055   \n",
              "\n",
              "   Delivery_location_latitude  Delivery_location_longitude Time_Orderd  \\\n",
              "0                   22.765049                    75.912471       11:30   \n",
              "1                   13.043041                    77.813237       19:45   \n",
              "2                   12.953041                    77.723237       13:50   \n",
              "3                   17.451477                    78.420350       10:60   \n",
              "4                   23.429407                    85.395055       23:50   \n",
              "\n",
              "  Time_Order_picked  Weatherconditions  Road_traffic_density  \\\n",
              "0             11:45                  4                     0   \n",
              "1             19:50                  3                     1   \n",
              "2             13:55                  6                     0   \n",
              "3             11:15                  2                     2   \n",
              "4             23:60                  3                     2   \n",
              "\n",
              "   Vehicle_condition  Type_of_order  Type_of_vehicle  multiple_deliveries  \\\n",
              "0                  2              3                3                  0.0   \n",
              "1                  2              3                4                  1.0   \n",
              "2                  0              0                3                  2.0   \n",
              "3                  1              2                4                  1.0   \n",
              "4                  0              2                3                  1.0   \n",
              "\n",
              "   Festival  City  Time_taken(min)  \n",
              "0         1     3             24.0  \n",
              "1         1     1             33.0  \n",
              "2         1     1             42.0  \n",
              "3         1     3             19.0  \n",
              "4         1     1             25.0  "
            ],
            "text/html": [
              "\n",
              "  <div id=\"df-7aff9e88-8a5d-4c89-bc6b-b46b4a4a4481\" class=\"colab-df-container\">\n",
              "    <div>\n",
              "<style scoped>\n",
              "    .dataframe tbody tr th:only-of-type {\n",
              "        vertical-align: middle;\n",
              "    }\n",
              "\n",
              "    .dataframe tbody tr th {\n",
              "        vertical-align: top;\n",
              "    }\n",
              "\n",
              "    .dataframe thead th {\n",
              "        text-align: right;\n",
              "    }\n",
              "</style>\n",
              "<table border=\"1\" class=\"dataframe\">\n",
              "  <thead>\n",
              "    <tr style=\"text-align: right;\">\n",
              "      <th></th>\n",
              "      <th>Unnamed: 0</th>\n",
              "      <th>ID</th>\n",
              "      <th>Delivery_person_ID</th>\n",
              "      <th>Delivery_person_Age</th>\n",
              "      <th>Delivery_person_Ratings</th>\n",
              "      <th>Restaurant_latitude</th>\n",
              "      <th>Restaurant_longitude</th>\n",
              "      <th>Delivery_location_latitude</th>\n",
              "      <th>Delivery_location_longitude</th>\n",
              "      <th>Time_Orderd</th>\n",
              "      <th>Time_Order_picked</th>\n",
              "      <th>Weatherconditions</th>\n",
              "      <th>Road_traffic_density</th>\n",
              "      <th>Vehicle_condition</th>\n",
              "      <th>Type_of_order</th>\n",
              "      <th>Type_of_vehicle</th>\n",
              "      <th>multiple_deliveries</th>\n",
              "      <th>Festival</th>\n",
              "      <th>City</th>\n",
              "      <th>Time_taken(min)</th>\n",
              "    </tr>\n",
              "  </thead>\n",
              "  <tbody>\n",
              "    <tr>\n",
              "      <th>0</th>\n",
              "      <td>1</td>\n",
              "      <td>0x4607_x</td>\n",
              "      <td>INDORES13DEL02</td>\n",
              "      <td>37</td>\n",
              "      <td>4.9</td>\n",
              "      <td>22.745049</td>\n",
              "      <td>75.892471</td>\n",
              "      <td>22.765049</td>\n",
              "      <td>75.912471</td>\n",
              "      <td>11:30</td>\n",
              "      <td>11:45</td>\n",
              "      <td>4</td>\n",
              "      <td>0</td>\n",
              "      <td>2</td>\n",
              "      <td>3</td>\n",
              "      <td>3</td>\n",
              "      <td>0.0</td>\n",
              "      <td>1</td>\n",
              "      <td>3</td>\n",
              "      <td>24.0</td>\n",
              "    </tr>\n",
              "    <tr>\n",
              "      <th>1</th>\n",
              "      <td>2</td>\n",
              "      <td>0xb379_x</td>\n",
              "      <td>BANGRES18DEL02</td>\n",
              "      <td>34</td>\n",
              "      <td>4.5</td>\n",
              "      <td>12.913041</td>\n",
              "      <td>77.683237</td>\n",
              "      <td>13.043041</td>\n",
              "      <td>77.813237</td>\n",
              "      <td>19:45</td>\n",
              "      <td>19:50</td>\n",
              "      <td>3</td>\n",
              "      <td>1</td>\n",
              "      <td>2</td>\n",
              "      <td>3</td>\n",
              "      <td>4</td>\n",
              "      <td>1.0</td>\n",
              "      <td>1</td>\n",
              "      <td>1</td>\n",
              "      <td>33.0</td>\n",
              "    </tr>\n",
              "    <tr>\n",
              "      <th>2</th>\n",
              "      <td>3</td>\n",
              "      <td>0x20f7_x</td>\n",
              "      <td>BANGRES18DEL01</td>\n",
              "      <td>37</td>\n",
              "      <td>4.4</td>\n",
              "      <td>12.913041</td>\n",
              "      <td>77.683237</td>\n",
              "      <td>12.953041</td>\n",
              "      <td>77.723237</td>\n",
              "      <td>13:50</td>\n",
              "      <td>13:55</td>\n",
              "      <td>6</td>\n",
              "      <td>0</td>\n",
              "      <td>0</td>\n",
              "      <td>0</td>\n",
              "      <td>3</td>\n",
              "      <td>2.0</td>\n",
              "      <td>1</td>\n",
              "      <td>1</td>\n",
              "      <td>42.0</td>\n",
              "    </tr>\n",
              "    <tr>\n",
              "      <th>3</th>\n",
              "      <td>4</td>\n",
              "      <td>0x7804_x</td>\n",
              "      <td>HYDRES13DEL02</td>\n",
              "      <td>28</td>\n",
              "      <td>4.9</td>\n",
              "      <td>17.431477</td>\n",
              "      <td>78.400350</td>\n",
              "      <td>17.451477</td>\n",
              "      <td>78.420350</td>\n",
              "      <td>10:60</td>\n",
              "      <td>11:15</td>\n",
              "      <td>2</td>\n",
              "      <td>2</td>\n",
              "      <td>1</td>\n",
              "      <td>2</td>\n",
              "      <td>4</td>\n",
              "      <td>1.0</td>\n",
              "      <td>1</td>\n",
              "      <td>3</td>\n",
              "      <td>19.0</td>\n",
              "    </tr>\n",
              "    <tr>\n",
              "      <th>4</th>\n",
              "      <td>5</td>\n",
              "      <td>0x7faf_x</td>\n",
              "      <td>RANCHIRES07DEL01</td>\n",
              "      <td>37</td>\n",
              "      <td>4.6</td>\n",
              "      <td>23.359407</td>\n",
              "      <td>85.325055</td>\n",
              "      <td>23.429407</td>\n",
              "      <td>85.395055</td>\n",
              "      <td>23:50</td>\n",
              "      <td>23:60</td>\n",
              "      <td>3</td>\n",
              "      <td>2</td>\n",
              "      <td>0</td>\n",
              "      <td>2</td>\n",
              "      <td>3</td>\n",
              "      <td>1.0</td>\n",
              "      <td>1</td>\n",
              "      <td>1</td>\n",
              "      <td>25.0</td>\n",
              "    </tr>\n",
              "  </tbody>\n",
              "</table>\n",
              "</div>\n",
              "    <div class=\"colab-df-buttons\">\n",
              "\n",
              "  <div class=\"colab-df-container\">\n",
              "    <button class=\"colab-df-convert\" onclick=\"convertToInteractive('df-7aff9e88-8a5d-4c89-bc6b-b46b4a4a4481')\"\n",
              "            title=\"Convert this dataframe to an interactive table.\"\n",
              "            style=\"display:none;\">\n",
              "\n",
              "  <svg xmlns=\"http://www.w3.org/2000/svg\" height=\"24px\" viewBox=\"0 -960 960 960\">\n",
              "    <path d=\"M120-120v-720h720v720H120Zm60-500h600v-160H180v160Zm220 220h160v-160H400v160Zm0 220h160v-160H400v160ZM180-400h160v-160H180v160Zm440 0h160v-160H620v160ZM180-180h160v-160H180v160Zm440 0h160v-160H620v160Z\"/>\n",
              "  </svg>\n",
              "    </button>\n",
              "\n",
              "  <style>\n",
              "    .colab-df-container {\n",
              "      display:flex;\n",
              "      gap: 12px;\n",
              "    }\n",
              "\n",
              "    .colab-df-convert {\n",
              "      background-color: #E8F0FE;\n",
              "      border: none;\n",
              "      border-radius: 50%;\n",
              "      cursor: pointer;\n",
              "      display: none;\n",
              "      fill: #1967D2;\n",
              "      height: 32px;\n",
              "      padding: 0 0 0 0;\n",
              "      width: 32px;\n",
              "    }\n",
              "\n",
              "    .colab-df-convert:hover {\n",
              "      background-color: #E2EBFA;\n",
              "      box-shadow: 0px 1px 2px rgba(60, 64, 67, 0.3), 0px 1px 3px 1px rgba(60, 64, 67, 0.15);\n",
              "      fill: #174EA6;\n",
              "    }\n",
              "\n",
              "    .colab-df-buttons div {\n",
              "      margin-bottom: 4px;\n",
              "    }\n",
              "\n",
              "    [theme=dark] .colab-df-convert {\n",
              "      background-color: #3B4455;\n",
              "      fill: #D2E3FC;\n",
              "    }\n",
              "\n",
              "    [theme=dark] .colab-df-convert:hover {\n",
              "      background-color: #434B5C;\n",
              "      box-shadow: 0px 1px 3px 1px rgba(0, 0, 0, 0.15);\n",
              "      filter: drop-shadow(0px 1px 2px rgba(0, 0, 0, 0.3));\n",
              "      fill: #FFFFFF;\n",
              "    }\n",
              "  </style>\n",
              "\n",
              "    <script>\n",
              "      const buttonEl =\n",
              "        document.querySelector('#df-7aff9e88-8a5d-4c89-bc6b-b46b4a4a4481 button.colab-df-convert');\n",
              "      buttonEl.style.display =\n",
              "        google.colab.kernel.accessAllowed ? 'block' : 'none';\n",
              "\n",
              "      async function convertToInteractive(key) {\n",
              "        const element = document.querySelector('#df-7aff9e88-8a5d-4c89-bc6b-b46b4a4a4481');\n",
              "        const dataTable =\n",
              "          await google.colab.kernel.invokeFunction('convertToInteractive',\n",
              "                                                    [key], {});\n",
              "        if (!dataTable) return;\n",
              "\n",
              "        const docLinkHtml = 'Like what you see? Visit the ' +\n",
              "          '<a target=\"_blank\" href=https://colab.research.google.com/notebooks/data_table.ipynb>data table notebook</a>'\n",
              "          + ' to learn more about interactive tables.';\n",
              "        element.innerHTML = '';\n",
              "        dataTable['output_type'] = 'display_data';\n",
              "        await google.colab.output.renderOutput(dataTable, element);\n",
              "        const docLink = document.createElement('div');\n",
              "        docLink.innerHTML = docLinkHtml;\n",
              "        element.appendChild(docLink);\n",
              "      }\n",
              "    </script>\n",
              "  </div>\n",
              "\n",
              "\n",
              "<div id=\"df-66d3508f-6189-4ae5-aeda-1153257fd55f\">\n",
              "  <button class=\"colab-df-quickchart\" onclick=\"quickchart('df-66d3508f-6189-4ae5-aeda-1153257fd55f')\"\n",
              "            title=\"Suggest charts\"\n",
              "            style=\"display:none;\">\n",
              "\n",
              "<svg xmlns=\"http://www.w3.org/2000/svg\" height=\"24px\"viewBox=\"0 0 24 24\"\n",
              "     width=\"24px\">\n",
              "    <g>\n",
              "        <path d=\"M19 3H5c-1.1 0-2 .9-2 2v14c0 1.1.9 2 2 2h14c1.1 0 2-.9 2-2V5c0-1.1-.9-2-2-2zM9 17H7v-7h2v7zm4 0h-2V7h2v10zm4 0h-2v-4h2v4z\"/>\n",
              "    </g>\n",
              "</svg>\n",
              "  </button>\n",
              "\n",
              "<style>\n",
              "  .colab-df-quickchart {\n",
              "      --bg-color: #E8F0FE;\n",
              "      --fill-color: #1967D2;\n",
              "      --hover-bg-color: #E2EBFA;\n",
              "      --hover-fill-color: #174EA6;\n",
              "      --disabled-fill-color: #AAA;\n",
              "      --disabled-bg-color: #DDD;\n",
              "  }\n",
              "\n",
              "  [theme=dark] .colab-df-quickchart {\n",
              "      --bg-color: #3B4455;\n",
              "      --fill-color: #D2E3FC;\n",
              "      --hover-bg-color: #434B5C;\n",
              "      --hover-fill-color: #FFFFFF;\n",
              "      --disabled-bg-color: #3B4455;\n",
              "      --disabled-fill-color: #666;\n",
              "  }\n",
              "\n",
              "  .colab-df-quickchart {\n",
              "    background-color: var(--bg-color);\n",
              "    border: none;\n",
              "    border-radius: 50%;\n",
              "    cursor: pointer;\n",
              "    display: none;\n",
              "    fill: var(--fill-color);\n",
              "    height: 32px;\n",
              "    padding: 0;\n",
              "    width: 32px;\n",
              "  }\n",
              "\n",
              "  .colab-df-quickchart:hover {\n",
              "    background-color: var(--hover-bg-color);\n",
              "    box-shadow: 0 1px 2px rgba(60, 64, 67, 0.3), 0 1px 3px 1px rgba(60, 64, 67, 0.15);\n",
              "    fill: var(--button-hover-fill-color);\n",
              "  }\n",
              "\n",
              "  .colab-df-quickchart-complete:disabled,\n",
              "  .colab-df-quickchart-complete:disabled:hover {\n",
              "    background-color: var(--disabled-bg-color);\n",
              "    fill: var(--disabled-fill-color);\n",
              "    box-shadow: none;\n",
              "  }\n",
              "\n",
              "  .colab-df-spinner {\n",
              "    border: 2px solid var(--fill-color);\n",
              "    border-color: transparent;\n",
              "    border-bottom-color: var(--fill-color);\n",
              "    animation:\n",
              "      spin 1s steps(1) infinite;\n",
              "  }\n",
              "\n",
              "  @keyframes spin {\n",
              "    0% {\n",
              "      border-color: transparent;\n",
              "      border-bottom-color: var(--fill-color);\n",
              "      border-left-color: var(--fill-color);\n",
              "    }\n",
              "    20% {\n",
              "      border-color: transparent;\n",
              "      border-left-color: var(--fill-color);\n",
              "      border-top-color: var(--fill-color);\n",
              "    }\n",
              "    30% {\n",
              "      border-color: transparent;\n",
              "      border-left-color: var(--fill-color);\n",
              "      border-top-color: var(--fill-color);\n",
              "      border-right-color: var(--fill-color);\n",
              "    }\n",
              "    40% {\n",
              "      border-color: transparent;\n",
              "      border-right-color: var(--fill-color);\n",
              "      border-top-color: var(--fill-color);\n",
              "    }\n",
              "    60% {\n",
              "      border-color: transparent;\n",
              "      border-right-color: var(--fill-color);\n",
              "    }\n",
              "    80% {\n",
              "      border-color: transparent;\n",
              "      border-right-color: var(--fill-color);\n",
              "      border-bottom-color: var(--fill-color);\n",
              "    }\n",
              "    90% {\n",
              "      border-color: transparent;\n",
              "      border-bottom-color: var(--fill-color);\n",
              "    }\n",
              "  }\n",
              "</style>\n",
              "\n",
              "  <script>\n",
              "    async function quickchart(key) {\n",
              "      const quickchartButtonEl =\n",
              "        document.querySelector('#' + key + ' button');\n",
              "      quickchartButtonEl.disabled = true;  // To prevent multiple clicks.\n",
              "      quickchartButtonEl.classList.add('colab-df-spinner');\n",
              "      try {\n",
              "        const charts = await google.colab.kernel.invokeFunction(\n",
              "            'suggestCharts', [key], {});\n",
              "      } catch (error) {\n",
              "        console.error('Error during call to suggestCharts:', error);\n",
              "      }\n",
              "      quickchartButtonEl.classList.remove('colab-df-spinner');\n",
              "      quickchartButtonEl.classList.add('colab-df-quickchart-complete');\n",
              "    }\n",
              "    (() => {\n",
              "      let quickchartButtonEl =\n",
              "        document.querySelector('#df-66d3508f-6189-4ae5-aeda-1153257fd55f button');\n",
              "      quickchartButtonEl.style.display =\n",
              "        google.colab.kernel.accessAllowed ? 'block' : 'none';\n",
              "    })();\n",
              "  </script>\n",
              "</div>\n",
              "    </div>\n",
              "  </div>\n"
            ]
          },
          "metadata": {},
          "execution_count": 4
        }
      ],
      "source": [
        "# use the read_csv() function to read the original dataset\n",
        "originalDF = pd.read_csv('/content/drive/My Drive/MLBA/Project/OriginalData.csv') # 'OriginalData.csv' is the same as 'Updated.csv'\n",
        "\n",
        "print(originalDF.shape)\n",
        "# (2442, 20)\n",
        "\n",
        "originalDF.head()"
      ]
    },
    {
      "cell_type": "code",
      "execution_count": null,
      "metadata": {
        "colab": {
          "base_uri": "https://localhost:8080/"
        },
        "id": "OJ6FzvSpOwgR",
        "outputId": "687af879-c56f-4fc6-e1c6-d85cfa5006b2"
      },
      "outputs": [
        {
          "output_type": "stream",
          "name": "stdout",
          "text": [
            "(2442, 16)\n"
          ]
        }
      ],
      "source": [
        "# cleaning the columns in the original data\n",
        "\n",
        "# rename the columns\n",
        "originalDF.columns = ['', 'ID', 'DeliveryPersonID', 'DeliveryPersonAge', 'DeliveryPersonRatings',\n",
        "                     'RestaurantLatitude', 'RestaurantLongitude',\n",
        "                     'DeliveryLocationLatitude', 'DeliveryLocationLongitude',\n",
        "                     'TimeOrdered', 'TimeOrderPickedUp',\n",
        "                     'WeatherCondition', 'RoadTrafficDensity', 'VehicleCondition',\n",
        "                     'TypeOfOrder', 'VehicleType', 'MultipleDeliveries', 'Festival', 'City', 'TimeTaken(min)']\n",
        "\n",
        "\n",
        "# remove unnecessary columns\n",
        "# removed columns : '' / 'ID' / 'DeliveryPersonID' / 'Festival'\n",
        "\n",
        "# keep the predictors that may potentially impact the response\n",
        "keepColumns = ['DeliveryPersonAge', 'DeliveryPersonRatings', \\\n",
        "               'RestaurantLatitude', 'RestaurantLongitude', \\\n",
        "               'DeliveryLocationLatitude', 'DeliveryLocationLongitude', \\\n",
        "               'TimeOrdered', 'TimeOrderPickedUp', \\\n",
        "               'WeatherCondition', 'RoadTrafficDensity', 'VehicleCondition', \\\n",
        "               'TypeOfOrder', 'VehicleType', 'MultipleDeliveries', 'City',  'TimeTaken(min)']\n",
        "\n",
        "\n",
        "# create a new dataframe with the cleaned columns\n",
        "cleanColumnsDataframe = originalDF[keepColumns]\n",
        "# create a new csv file with the cleaned columns\n",
        "cleanColumnsDataframe.to_csv('/content/drive/My Drive/MLBA/Project/CleanedColumnsData.csv', index = False)\n",
        "\n",
        "print(cleanColumnsDataframe.shape)\n",
        "# (2442, 16)"
      ]
    },
    {
      "cell_type": "code",
      "execution_count": null,
      "metadata": {
        "id": "luomnIB2dhY3"
      },
      "outputs": [],
      "source": [
        "# cleaning the rows in the cleaned column data\n",
        "\n",
        "# read the cleaned column dataset\n",
        "cleanRowsDataframe = pd.read_csv('/content/drive/My Drive/MLBA/Project/CleanedColumnsData.csv')\n",
        "\n",
        "\n",
        "# remove any row that contains a NaN value\n",
        "cleanRowsDataframe = cleanRowsDataframe.dropna()\n",
        "\n",
        "# remove any rows that contain a '0' value for 'RestaurantLatitude' or 'RestaurantLongitude'\n",
        "cleanRowsDataframe = cleanRowsDataframe[(cleanRowsDataframe['RestaurantLatitude'] != 0) & (cleanRowsDataframe['RestaurantLongitude'] != 0)]\n",
        "\n",
        "\n",
        "\n",
        "# display all unique values in the 'WeatherCondition' column\n",
        "# print(cleanRowsDataframe['WeatherCondition'].unique())\n",
        "# Windy - 6     Sunny - 4     Stormy - 3     Sandstorms - 2     Fog - 1     Cloudy - 0\n",
        "cleanRowsDataframe['WeatherCondition'] = cleanRowsDataframe['WeatherCondition'].replace([0, 1, 2, 3, 4, 6], ['Cloudy', 'Fog', 'Sandstorms', 'Stormy', 'Sunny', 'Windy'])\n",
        "\n",
        "# convert the categorical values in the 'WeatherCondition' column to numerical values\n",
        "cleanRowsDataframe['WeatherCondition'] = cleanRowsDataframe['WeatherCondition'].map({'Sunny': 0, 'Cloudy': 1, 'Fog': 2, 'Windy': 3, 'Stormy': 4, 'Sandstorms': 5})\n",
        "\n",
        "\n",
        "\n",
        "# display all unique values in the 'RoadTrafficDensity' column\n",
        "# print(cleanRowsDataframe['RoadTrafficDensity'].unique())\n",
        "# Medium - 3/3     Low - 2/2     Jam - 1/1     High - 0/0\n",
        "cleanRowsDataframe['RoadTrafficDensity'] = cleanRowsDataframe['RoadTrafficDensity'].replace([0, 1, 2, 3], ['High', 'Jam', 'Low', 'Medium'])\n",
        "\n",
        "# convert the categorical values in the 'RoadTrafficDensity' column to numerical values\n",
        "cleanRowsDataframe['RoadTrafficDensity'] = cleanRowsDataframe['RoadTrafficDensity'].map({'Low': 0, 'Medium': 1, 'High': 2, 'Jam': 3})\n",
        "\n",
        "\n",
        "\n",
        "# display all unique values in the 'TypeOfOrder' column\n",
        "# print(cleanRowsDataframe['TypeOfOrder'].unique())\n",
        "# Snack - 3     Drinks - 1     Meal - 2     Buffet - 0\n",
        "cleanRowsDataframe['TypeOfOrder'] = cleanRowsDataframe['TypeOfOrder'].replace([0, 1, 2, 3], ['Buffet', 'Drinks', 'Meal', 'Snack'])\n",
        "\n",
        "# convert the categorical values in the 'TypeOfOrder' column to numerical values\n",
        "cleanRowsDataframe['TypeOfOrder'] = cleanRowsDataframe['TypeOfOrder'].map({'Snack': 0, 'Drinks': 1, 'Meal': 2, 'Buffet': 3})\n",
        "\n",
        "\n",
        "\n",
        "# display all unique values in the 'VehicleType' column\n",
        "# print(cleanRowsDataframe['VehicleType'].unique())\n",
        "# Scooter - 3/4     Motorcycle - 2/3      ElectricScooter - 1/2\n",
        "cleanRowsDataframe['VehicleType'] = cleanRowsDataframe['VehicleType'].replace([2, 3, 4], ['ElectricScooter', 'Motorcycle', 'Scooter'])\n",
        "\n",
        "# convert the categorical values in the 'VehicleType' column to numerical values\n",
        "cleanRowsDataframe['VehicleType'] = cleanRowsDataframe['VehicleType'].map({'Scooter': 0, 'ElectricScooter': 1, 'Motorcycle': 2})\n",
        "\n",
        "\n",
        "\n",
        "# display all unique values in the 'City' column\n",
        "# print(cleanRowsDataframe['City'].unique())\n",
        "# Metropolitan - 0/1     Urban - 2/3     Semi-Urban - 1/4\n",
        "cleanRowsDataframe['City'] = cleanRowsDataframe['City'].replace([1, 2, 3, 4], ['Metropolitan', '', 'Urban', 'Semi-Urban'])\n",
        "cleanRowsDataframe = cleanRowsDataframe[cleanRowsDataframe['City'] != '']\n",
        "\n",
        "# convert the categorical values in the 'City' column to numerical values\n",
        "cleanRowsDataframe['City'] = cleanRowsDataframe['City'].map({'Semi-Urban': 0, 'Urban': 1, 'Metropolitan': 2})\n",
        "\n",
        "\n",
        "\n",
        "cleanDF = cleanRowsDataframe\n",
        "# create a new csv file with the cleaned columns and rows\n",
        "cleanDF.to_csv('/content/drive/My Drive/MLBA/Project/CleanedData.csv', index = False)"
      ]
    },
    {
      "cell_type": "markdown",
      "metadata": {
        "id": "wadtZ5j9IM1Z"
      },
      "source": [
        "# Functions to Convert Data Values"
      ]
    },
    {
      "cell_type": "code",
      "execution_count": null,
      "metadata": {
        "id": "of4KP1sg1Ie2"
      },
      "outputs": [],
      "source": [
        "# convert time format of (hour:minute:seconds) or (hour:minute) to decimal (float) format\n",
        "\n",
        "def decimalTime(t):\n",
        "  components = t.split(':')\n",
        "\n",
        "  # check if the time format is (hour:minute)\n",
        "  if len(components) == 2:\n",
        "    hour, minute, second = int(components[0]), int(components[1]), 0\n",
        "  # check if the time format is (hour:minute:seconds)\n",
        "  elif len(components) == 3:\n",
        "    hour, minute, second = map(int, components)\n",
        "  else:\n",
        "    raise ValueError(\"ERROR: Invalid Time Format\")\n",
        "\n",
        "  decimalTime = hour + (minute / 100) + second\n",
        "\n",
        "  return decimalTime"
      ]
    },
    {
      "cell_type": "code",
      "execution_count": null,
      "metadata": {
        "id": "LhAfPshvwX5u"
      },
      "outputs": [],
      "source": [
        "# compute the location distance from the restaurant to the delivery location\n",
        "\n",
        "def distance(restaurantLat, restaurantLong, deliveryLat, deliveryLong):\n",
        "  # radius of the Earth in kilometers\n",
        "  earthRadius = 6371\n",
        "\n",
        "  # convert latitude and longitude from degrees to radians\n",
        "  restaurantLat, restaurantLong, deliveryLat, deliveryLong = map(math.radians, [restaurantLat, restaurantLong, deliveryLat, deliveryLong])\n",
        "\n",
        "  # implement the Haversine formula\n",
        "  # an accurate way of computing distances b/t two points on the surface of a sphere using lat. and long. of the two points\n",
        "  distanceLat = deliveryLat - restaurantLat\n",
        "  distanceLong = deliveryLong - restaurantLong\n",
        "  a = math.sin(distanceLat/2)**2 + math.cos(restaurantLat) * math.cos(deliveryLat) * math.sin(distanceLong/2)**2\n",
        "  c = 2 * math.atan2(math.sqrt(a), math.sqrt(1 - a))\n",
        "  distance = earthRadius * c\n",
        "\n",
        "  # return value is the distance between the locations in kilometers\n",
        "  return distance"
      ]
    },
    {
      "cell_type": "code",
      "execution_count": null,
      "metadata": {
        "colab": {
          "base_uri": "https://localhost:8080/"
        },
        "id": "h9Kuol_Qy3SS",
        "outputId": "27f95dd0-d895-4d32-9b37-9a66293027b9"
      },
      "outputs": [
        {
          "output_type": "stream",
          "name": "stdout",
          "text": [
            "(2118, 17)\n"
          ]
        }
      ],
      "source": [
        "# read the final cleaned dataset\n",
        "df = pd.read_csv('/content/drive/My Drive/MLBA/Project/CleanedData.csv')\n",
        "\n",
        "# create a new column for the dataframe that represents the distance b/t the restaurant and the delivery location\n",
        "df['Distance(km)'] = df.apply(lambda row: distance(row['RestaurantLatitude'], row['RestaurantLongitude'], row['DeliveryLocationLatitude'], row['DeliveryLocationLongitude']), axis=1)\n",
        "\n",
        "# convert the timestamps into floats\n",
        "df['TimeOrdered'] = df['TimeOrdered'].apply(decimalTime)\n",
        "df['TimeOrderPickedUp'] = df['TimeOrderPickedUp'].apply(decimalTime)\n",
        "\n",
        "print(df.shape)\n",
        "# (2118, 17)"
      ]
    },
    {
      "cell_type": "markdown",
      "metadata": {
        "id": "5jNVvta4BNUb"
      },
      "source": [
        "# Categorical Columns"
      ]
    },
    {
      "cell_type": "code",
      "execution_count": null,
      "metadata": {
        "id": "83cPTZf3BSlG"
      },
      "outputs": [],
      "source": [
        "# convert the numerical values in the 'WeatherCondition' column to categorical values\n",
        "df['WeatherCondition'] = df['WeatherCondition'].map({0: 'Sunny', 1: 'Cloudy', 2: 'Fog', 3: 'Windy', 4: 'Stormy', 5: 'Sandstorms'})\n",
        "\n",
        "# convert the numerical values in the 'RoadTrafficDensity' column to categorical values\n",
        "df['RoadTrafficDensity'] = df['RoadTrafficDensity'].map({0: 'Low', 1: 'Medium', 2: 'High', 3: 'Jam'})\n",
        "\n",
        "# convert the numerical values in the 'TypeOfOrder' column to categorical values\n",
        "df['TypeOfOrder'] = df['TypeOfOrder'].map({0: 'Snack', 1: 'Drinks', 2: 'Meal', 3: 'Buffet'})\n",
        "\n",
        "# convert the numerical values in the 'VehicleType' column to categorical values\n",
        "df['VehicleType'] = df['VehicleType'].map({0: 'Scooter', 1: 'ElectricScooter', 2: 'Motorcycle'})\n",
        "\n",
        "# convert the numerical values in the 'City' column to categorical values\n",
        "df['City'] = df['City'].map({0: 'Semi-Urban', 1: 'Urban', 2: 'Metropolitan'})"
      ]
    },
    {
      "cell_type": "markdown",
      "metadata": {
        "id": "gba2nbaEzjfy"
      },
      "source": [
        "# Dummy Variables for Categorical Columns"
      ]
    },
    {
      "cell_type": "code",
      "execution_count": null,
      "metadata": {
        "colab": {
          "base_uri": "https://localhost:8080/",
          "height": 363
        },
        "id": "nYgtAbtzzvOK",
        "outputId": "6a7d3ae5-1d5e-4d1a-fe7c-4db36b79fa51"
      },
      "outputs": [
        {
          "output_type": "execute_result",
          "data": {
            "text/plain": [
              "       DeliveryPersonAge  DeliveryPersonRatings  RestaurantLatitude  \\\n",
              "count        2118.000000            2118.000000         2118.000000   \n",
              "mean           29.505194               4.625921           18.659478   \n",
              "std             5.706879               0.311841            6.090310   \n",
              "min            20.000000               2.500000          -30.902872   \n",
              "25%            25.000000               4.500000           12.981615   \n",
              "50%            30.000000               4.700000           19.055831   \n",
              "75%            34.000000               4.800000           22.745536   \n",
              "max            39.000000               5.000000           30.914057   \n",
              "\n",
              "       RestaurantLongitude  DeliveryLocationLatitude  \\\n",
              "count          2118.000000               2118.000000   \n",
              "mean             76.952103                 18.920712   \n",
              "std               3.556569                  5.451263   \n",
              "min              72.768726                  9.980846   \n",
              "25%              73.896485                 13.065697   \n",
              "50%              76.619103                 19.123649   \n",
              "75%              78.347554                 22.812133   \n",
              "max              88.433452                 31.035562   \n",
              "\n",
              "       DeliveryLocationLongitude  TimeOrdered  TimeOrderPickedUp  \\\n",
              "count                2118.000000  2118.000000        2118.000000   \n",
              "mean                   77.016461    18.098182          18.273536   \n",
              "std                     3.556545     4.444545           4.447888   \n",
              "min                    72.778726     8.100000           8.150000   \n",
              "25%                    73.937313    16.362500          16.500000   \n",
              "50%                    76.671094    19.300000          19.400000   \n",
              "75%                    78.389645    21.400000          21.500000   \n",
              "max                    88.503310    23.600000          24.150000   \n",
              "\n",
              "       VehicleCondition  MultipleDeliveries  ...          Jam          Low  \\\n",
              "count       2118.000000         2118.000000  ...  2118.000000  2118.000000   \n",
              "mean           0.968839            0.756846  ...     0.328140     0.336166   \n",
              "std            0.814936            0.553161  ...     0.469647     0.472508   \n",
              "min            0.000000            0.000000  ...     0.000000     0.000000   \n",
              "25%            0.000000            0.000000  ...     0.000000     0.000000   \n",
              "50%            1.000000            1.000000  ...     0.000000     0.000000   \n",
              "75%            2.000000            1.000000  ...     1.000000     1.000000   \n",
              "max            2.000000            3.000000  ...     1.000000     1.000000   \n",
              "\n",
              "            Medium       Drinks         Meal        Snack   Motorcycle  \\\n",
              "count  2118.000000  2118.000000  2118.000000  2118.000000  2118.000000   \n",
              "mean      0.232767     0.252597     0.240321     0.251180     0.597734   \n",
              "std       0.422695     0.434604     0.427379     0.433794     0.490471   \n",
              "min       0.000000     0.000000     0.000000     0.000000     0.000000   \n",
              "25%       0.000000     0.000000     0.000000     0.000000     0.000000   \n",
              "50%       0.000000     0.000000     0.000000     0.000000     1.000000   \n",
              "75%       0.000000     1.000000     0.000000     1.000000     1.000000   \n",
              "max       1.000000     1.000000     1.000000     1.000000     1.000000   \n",
              "\n",
              "           Scooter   Semi-Urban        Urban  \n",
              "count  2118.000000  2118.000000  2118.000000  \n",
              "mean      0.330500     0.023607     0.234655  \n",
              "std       0.470504     0.151858     0.423883  \n",
              "min       0.000000     0.000000     0.000000  \n",
              "25%       0.000000     0.000000     0.000000  \n",
              "50%       0.000000     0.000000     0.000000  \n",
              "75%       1.000000     0.000000     0.000000  \n",
              "max       1.000000     1.000000     1.000000  \n",
              "\n",
              "[8 rows x 27 columns]"
            ],
            "text/html": [
              "\n",
              "  <div id=\"df-35148543-0969-455b-a792-b6de7b5199c2\" class=\"colab-df-container\">\n",
              "    <div>\n",
              "<style scoped>\n",
              "    .dataframe tbody tr th:only-of-type {\n",
              "        vertical-align: middle;\n",
              "    }\n",
              "\n",
              "    .dataframe tbody tr th {\n",
              "        vertical-align: top;\n",
              "    }\n",
              "\n",
              "    .dataframe thead th {\n",
              "        text-align: right;\n",
              "    }\n",
              "</style>\n",
              "<table border=\"1\" class=\"dataframe\">\n",
              "  <thead>\n",
              "    <tr style=\"text-align: right;\">\n",
              "      <th></th>\n",
              "      <th>DeliveryPersonAge</th>\n",
              "      <th>DeliveryPersonRatings</th>\n",
              "      <th>RestaurantLatitude</th>\n",
              "      <th>RestaurantLongitude</th>\n",
              "      <th>DeliveryLocationLatitude</th>\n",
              "      <th>DeliveryLocationLongitude</th>\n",
              "      <th>TimeOrdered</th>\n",
              "      <th>TimeOrderPickedUp</th>\n",
              "      <th>VehicleCondition</th>\n",
              "      <th>MultipleDeliveries</th>\n",
              "      <th>...</th>\n",
              "      <th>Jam</th>\n",
              "      <th>Low</th>\n",
              "      <th>Medium</th>\n",
              "      <th>Drinks</th>\n",
              "      <th>Meal</th>\n",
              "      <th>Snack</th>\n",
              "      <th>Motorcycle</th>\n",
              "      <th>Scooter</th>\n",
              "      <th>Semi-Urban</th>\n",
              "      <th>Urban</th>\n",
              "    </tr>\n",
              "  </thead>\n",
              "  <tbody>\n",
              "    <tr>\n",
              "      <th>count</th>\n",
              "      <td>2118.000000</td>\n",
              "      <td>2118.000000</td>\n",
              "      <td>2118.000000</td>\n",
              "      <td>2118.000000</td>\n",
              "      <td>2118.000000</td>\n",
              "      <td>2118.000000</td>\n",
              "      <td>2118.000000</td>\n",
              "      <td>2118.000000</td>\n",
              "      <td>2118.000000</td>\n",
              "      <td>2118.000000</td>\n",
              "      <td>...</td>\n",
              "      <td>2118.000000</td>\n",
              "      <td>2118.000000</td>\n",
              "      <td>2118.000000</td>\n",
              "      <td>2118.000000</td>\n",
              "      <td>2118.000000</td>\n",
              "      <td>2118.000000</td>\n",
              "      <td>2118.000000</td>\n",
              "      <td>2118.000000</td>\n",
              "      <td>2118.000000</td>\n",
              "      <td>2118.000000</td>\n",
              "    </tr>\n",
              "    <tr>\n",
              "      <th>mean</th>\n",
              "      <td>29.505194</td>\n",
              "      <td>4.625921</td>\n",
              "      <td>18.659478</td>\n",
              "      <td>76.952103</td>\n",
              "      <td>18.920712</td>\n",
              "      <td>77.016461</td>\n",
              "      <td>18.098182</td>\n",
              "      <td>18.273536</td>\n",
              "      <td>0.968839</td>\n",
              "      <td>0.756846</td>\n",
              "      <td>...</td>\n",
              "      <td>0.328140</td>\n",
              "      <td>0.336166</td>\n",
              "      <td>0.232767</td>\n",
              "      <td>0.252597</td>\n",
              "      <td>0.240321</td>\n",
              "      <td>0.251180</td>\n",
              "      <td>0.597734</td>\n",
              "      <td>0.330500</td>\n",
              "      <td>0.023607</td>\n",
              "      <td>0.234655</td>\n",
              "    </tr>\n",
              "    <tr>\n",
              "      <th>std</th>\n",
              "      <td>5.706879</td>\n",
              "      <td>0.311841</td>\n",
              "      <td>6.090310</td>\n",
              "      <td>3.556569</td>\n",
              "      <td>5.451263</td>\n",
              "      <td>3.556545</td>\n",
              "      <td>4.444545</td>\n",
              "      <td>4.447888</td>\n",
              "      <td>0.814936</td>\n",
              "      <td>0.553161</td>\n",
              "      <td>...</td>\n",
              "      <td>0.469647</td>\n",
              "      <td>0.472508</td>\n",
              "      <td>0.422695</td>\n",
              "      <td>0.434604</td>\n",
              "      <td>0.427379</td>\n",
              "      <td>0.433794</td>\n",
              "      <td>0.490471</td>\n",
              "      <td>0.470504</td>\n",
              "      <td>0.151858</td>\n",
              "      <td>0.423883</td>\n",
              "    </tr>\n",
              "    <tr>\n",
              "      <th>min</th>\n",
              "      <td>20.000000</td>\n",
              "      <td>2.500000</td>\n",
              "      <td>-30.902872</td>\n",
              "      <td>72.768726</td>\n",
              "      <td>9.980846</td>\n",
              "      <td>72.778726</td>\n",
              "      <td>8.100000</td>\n",
              "      <td>8.150000</td>\n",
              "      <td>0.000000</td>\n",
              "      <td>0.000000</td>\n",
              "      <td>...</td>\n",
              "      <td>0.000000</td>\n",
              "      <td>0.000000</td>\n",
              "      <td>0.000000</td>\n",
              "      <td>0.000000</td>\n",
              "      <td>0.000000</td>\n",
              "      <td>0.000000</td>\n",
              "      <td>0.000000</td>\n",
              "      <td>0.000000</td>\n",
              "      <td>0.000000</td>\n",
              "      <td>0.000000</td>\n",
              "    </tr>\n",
              "    <tr>\n",
              "      <th>25%</th>\n",
              "      <td>25.000000</td>\n",
              "      <td>4.500000</td>\n",
              "      <td>12.981615</td>\n",
              "      <td>73.896485</td>\n",
              "      <td>13.065697</td>\n",
              "      <td>73.937313</td>\n",
              "      <td>16.362500</td>\n",
              "      <td>16.500000</td>\n",
              "      <td>0.000000</td>\n",
              "      <td>0.000000</td>\n",
              "      <td>...</td>\n",
              "      <td>0.000000</td>\n",
              "      <td>0.000000</td>\n",
              "      <td>0.000000</td>\n",
              "      <td>0.000000</td>\n",
              "      <td>0.000000</td>\n",
              "      <td>0.000000</td>\n",
              "      <td>0.000000</td>\n",
              "      <td>0.000000</td>\n",
              "      <td>0.000000</td>\n",
              "      <td>0.000000</td>\n",
              "    </tr>\n",
              "    <tr>\n",
              "      <th>50%</th>\n",
              "      <td>30.000000</td>\n",
              "      <td>4.700000</td>\n",
              "      <td>19.055831</td>\n",
              "      <td>76.619103</td>\n",
              "      <td>19.123649</td>\n",
              "      <td>76.671094</td>\n",
              "      <td>19.300000</td>\n",
              "      <td>19.400000</td>\n",
              "      <td>1.000000</td>\n",
              "      <td>1.000000</td>\n",
              "      <td>...</td>\n",
              "      <td>0.000000</td>\n",
              "      <td>0.000000</td>\n",
              "      <td>0.000000</td>\n",
              "      <td>0.000000</td>\n",
              "      <td>0.000000</td>\n",
              "      <td>0.000000</td>\n",
              "      <td>1.000000</td>\n",
              "      <td>0.000000</td>\n",
              "      <td>0.000000</td>\n",
              "      <td>0.000000</td>\n",
              "    </tr>\n",
              "    <tr>\n",
              "      <th>75%</th>\n",
              "      <td>34.000000</td>\n",
              "      <td>4.800000</td>\n",
              "      <td>22.745536</td>\n",
              "      <td>78.347554</td>\n",
              "      <td>22.812133</td>\n",
              "      <td>78.389645</td>\n",
              "      <td>21.400000</td>\n",
              "      <td>21.500000</td>\n",
              "      <td>2.000000</td>\n",
              "      <td>1.000000</td>\n",
              "      <td>...</td>\n",
              "      <td>1.000000</td>\n",
              "      <td>1.000000</td>\n",
              "      <td>0.000000</td>\n",
              "      <td>1.000000</td>\n",
              "      <td>0.000000</td>\n",
              "      <td>1.000000</td>\n",
              "      <td>1.000000</td>\n",
              "      <td>1.000000</td>\n",
              "      <td>0.000000</td>\n",
              "      <td>0.000000</td>\n",
              "    </tr>\n",
              "    <tr>\n",
              "      <th>max</th>\n",
              "      <td>39.000000</td>\n",
              "      <td>5.000000</td>\n",
              "      <td>30.914057</td>\n",
              "      <td>88.433452</td>\n",
              "      <td>31.035562</td>\n",
              "      <td>88.503310</td>\n",
              "      <td>23.600000</td>\n",
              "      <td>24.150000</td>\n",
              "      <td>2.000000</td>\n",
              "      <td>3.000000</td>\n",
              "      <td>...</td>\n",
              "      <td>1.000000</td>\n",
              "      <td>1.000000</td>\n",
              "      <td>1.000000</td>\n",
              "      <td>1.000000</td>\n",
              "      <td>1.000000</td>\n",
              "      <td>1.000000</td>\n",
              "      <td>1.000000</td>\n",
              "      <td>1.000000</td>\n",
              "      <td>1.000000</td>\n",
              "      <td>1.000000</td>\n",
              "    </tr>\n",
              "  </tbody>\n",
              "</table>\n",
              "<p>8 rows × 27 columns</p>\n",
              "</div>\n",
              "    <div class=\"colab-df-buttons\">\n",
              "\n",
              "  <div class=\"colab-df-container\">\n",
              "    <button class=\"colab-df-convert\" onclick=\"convertToInteractive('df-35148543-0969-455b-a792-b6de7b5199c2')\"\n",
              "            title=\"Convert this dataframe to an interactive table.\"\n",
              "            style=\"display:none;\">\n",
              "\n",
              "  <svg xmlns=\"http://www.w3.org/2000/svg\" height=\"24px\" viewBox=\"0 -960 960 960\">\n",
              "    <path d=\"M120-120v-720h720v720H120Zm60-500h600v-160H180v160Zm220 220h160v-160H400v160Zm0 220h160v-160H400v160ZM180-400h160v-160H180v160Zm440 0h160v-160H620v160ZM180-180h160v-160H180v160Zm440 0h160v-160H620v160Z\"/>\n",
              "  </svg>\n",
              "    </button>\n",
              "\n",
              "  <style>\n",
              "    .colab-df-container {\n",
              "      display:flex;\n",
              "      gap: 12px;\n",
              "    }\n",
              "\n",
              "    .colab-df-convert {\n",
              "      background-color: #E8F0FE;\n",
              "      border: none;\n",
              "      border-radius: 50%;\n",
              "      cursor: pointer;\n",
              "      display: none;\n",
              "      fill: #1967D2;\n",
              "      height: 32px;\n",
              "      padding: 0 0 0 0;\n",
              "      width: 32px;\n",
              "    }\n",
              "\n",
              "    .colab-df-convert:hover {\n",
              "      background-color: #E2EBFA;\n",
              "      box-shadow: 0px 1px 2px rgba(60, 64, 67, 0.3), 0px 1px 3px 1px rgba(60, 64, 67, 0.15);\n",
              "      fill: #174EA6;\n",
              "    }\n",
              "\n",
              "    .colab-df-buttons div {\n",
              "      margin-bottom: 4px;\n",
              "    }\n",
              "\n",
              "    [theme=dark] .colab-df-convert {\n",
              "      background-color: #3B4455;\n",
              "      fill: #D2E3FC;\n",
              "    }\n",
              "\n",
              "    [theme=dark] .colab-df-convert:hover {\n",
              "      background-color: #434B5C;\n",
              "      box-shadow: 0px 1px 3px 1px rgba(0, 0, 0, 0.15);\n",
              "      filter: drop-shadow(0px 1px 2px rgba(0, 0, 0, 0.3));\n",
              "      fill: #FFFFFF;\n",
              "    }\n",
              "  </style>\n",
              "\n",
              "    <script>\n",
              "      const buttonEl =\n",
              "        document.querySelector('#df-35148543-0969-455b-a792-b6de7b5199c2 button.colab-df-convert');\n",
              "      buttonEl.style.display =\n",
              "        google.colab.kernel.accessAllowed ? 'block' : 'none';\n",
              "\n",
              "      async function convertToInteractive(key) {\n",
              "        const element = document.querySelector('#df-35148543-0969-455b-a792-b6de7b5199c2');\n",
              "        const dataTable =\n",
              "          await google.colab.kernel.invokeFunction('convertToInteractive',\n",
              "                                                    [key], {});\n",
              "        if (!dataTable) return;\n",
              "\n",
              "        const docLinkHtml = 'Like what you see? Visit the ' +\n",
              "          '<a target=\"_blank\" href=https://colab.research.google.com/notebooks/data_table.ipynb>data table notebook</a>'\n",
              "          + ' to learn more about interactive tables.';\n",
              "        element.innerHTML = '';\n",
              "        dataTable['output_type'] = 'display_data';\n",
              "        await google.colab.output.renderOutput(dataTable, element);\n",
              "        const docLink = document.createElement('div');\n",
              "        docLink.innerHTML = docLinkHtml;\n",
              "        element.appendChild(docLink);\n",
              "      }\n",
              "    </script>\n",
              "  </div>\n",
              "\n",
              "\n",
              "<div id=\"df-cec42d65-3a30-447b-bf5c-f47093a27732\">\n",
              "  <button class=\"colab-df-quickchart\" onclick=\"quickchart('df-cec42d65-3a30-447b-bf5c-f47093a27732')\"\n",
              "            title=\"Suggest charts\"\n",
              "            style=\"display:none;\">\n",
              "\n",
              "<svg xmlns=\"http://www.w3.org/2000/svg\" height=\"24px\"viewBox=\"0 0 24 24\"\n",
              "     width=\"24px\">\n",
              "    <g>\n",
              "        <path d=\"M19 3H5c-1.1 0-2 .9-2 2v14c0 1.1.9 2 2 2h14c1.1 0 2-.9 2-2V5c0-1.1-.9-2-2-2zM9 17H7v-7h2v7zm4 0h-2V7h2v10zm4 0h-2v-4h2v4z\"/>\n",
              "    </g>\n",
              "</svg>\n",
              "  </button>\n",
              "\n",
              "<style>\n",
              "  .colab-df-quickchart {\n",
              "      --bg-color: #E8F0FE;\n",
              "      --fill-color: #1967D2;\n",
              "      --hover-bg-color: #E2EBFA;\n",
              "      --hover-fill-color: #174EA6;\n",
              "      --disabled-fill-color: #AAA;\n",
              "      --disabled-bg-color: #DDD;\n",
              "  }\n",
              "\n",
              "  [theme=dark] .colab-df-quickchart {\n",
              "      --bg-color: #3B4455;\n",
              "      --fill-color: #D2E3FC;\n",
              "      --hover-bg-color: #434B5C;\n",
              "      --hover-fill-color: #FFFFFF;\n",
              "      --disabled-bg-color: #3B4455;\n",
              "      --disabled-fill-color: #666;\n",
              "  }\n",
              "\n",
              "  .colab-df-quickchart {\n",
              "    background-color: var(--bg-color);\n",
              "    border: none;\n",
              "    border-radius: 50%;\n",
              "    cursor: pointer;\n",
              "    display: none;\n",
              "    fill: var(--fill-color);\n",
              "    height: 32px;\n",
              "    padding: 0;\n",
              "    width: 32px;\n",
              "  }\n",
              "\n",
              "  .colab-df-quickchart:hover {\n",
              "    background-color: var(--hover-bg-color);\n",
              "    box-shadow: 0 1px 2px rgba(60, 64, 67, 0.3), 0 1px 3px 1px rgba(60, 64, 67, 0.15);\n",
              "    fill: var(--button-hover-fill-color);\n",
              "  }\n",
              "\n",
              "  .colab-df-quickchart-complete:disabled,\n",
              "  .colab-df-quickchart-complete:disabled:hover {\n",
              "    background-color: var(--disabled-bg-color);\n",
              "    fill: var(--disabled-fill-color);\n",
              "    box-shadow: none;\n",
              "  }\n",
              "\n",
              "  .colab-df-spinner {\n",
              "    border: 2px solid var(--fill-color);\n",
              "    border-color: transparent;\n",
              "    border-bottom-color: var(--fill-color);\n",
              "    animation:\n",
              "      spin 1s steps(1) infinite;\n",
              "  }\n",
              "\n",
              "  @keyframes spin {\n",
              "    0% {\n",
              "      border-color: transparent;\n",
              "      border-bottom-color: var(--fill-color);\n",
              "      border-left-color: var(--fill-color);\n",
              "    }\n",
              "    20% {\n",
              "      border-color: transparent;\n",
              "      border-left-color: var(--fill-color);\n",
              "      border-top-color: var(--fill-color);\n",
              "    }\n",
              "    30% {\n",
              "      border-color: transparent;\n",
              "      border-left-color: var(--fill-color);\n",
              "      border-top-color: var(--fill-color);\n",
              "      border-right-color: var(--fill-color);\n",
              "    }\n",
              "    40% {\n",
              "      border-color: transparent;\n",
              "      border-right-color: var(--fill-color);\n",
              "      border-top-color: var(--fill-color);\n",
              "    }\n",
              "    60% {\n",
              "      border-color: transparent;\n",
              "      border-right-color: var(--fill-color);\n",
              "    }\n",
              "    80% {\n",
              "      border-color: transparent;\n",
              "      border-right-color: var(--fill-color);\n",
              "      border-bottom-color: var(--fill-color);\n",
              "    }\n",
              "    90% {\n",
              "      border-color: transparent;\n",
              "      border-bottom-color: var(--fill-color);\n",
              "    }\n",
              "  }\n",
              "</style>\n",
              "\n",
              "  <script>\n",
              "    async function quickchart(key) {\n",
              "      const quickchartButtonEl =\n",
              "        document.querySelector('#' + key + ' button');\n",
              "      quickchartButtonEl.disabled = true;  // To prevent multiple clicks.\n",
              "      quickchartButtonEl.classList.add('colab-df-spinner');\n",
              "      try {\n",
              "        const charts = await google.colab.kernel.invokeFunction(\n",
              "            'suggestCharts', [key], {});\n",
              "      } catch (error) {\n",
              "        console.error('Error during call to suggestCharts:', error);\n",
              "      }\n",
              "      quickchartButtonEl.classList.remove('colab-df-spinner');\n",
              "      quickchartButtonEl.classList.add('colab-df-quickchart-complete');\n",
              "    }\n",
              "    (() => {\n",
              "      let quickchartButtonEl =\n",
              "        document.querySelector('#df-cec42d65-3a30-447b-bf5c-f47093a27732 button');\n",
              "      quickchartButtonEl.style.display =\n",
              "        google.colab.kernel.accessAllowed ? 'block' : 'none';\n",
              "    })();\n",
              "  </script>\n",
              "</div>\n",
              "    </div>\n",
              "  </div>\n"
            ]
          },
          "metadata": {},
          "execution_count": 11
        }
      ],
      "source": [
        "# create six new columns for the dataframe that represent each weather condition\n",
        "weatherDummy = pd.get_dummies(df['WeatherCondition'], drop_first = True, dtype = int)\n",
        "df[weatherDummy.columns] = weatherDummy\n",
        "\n",
        "# create four new columns for the dataframe that represent each road traffic density\n",
        "trafficDummy = pd.get_dummies(df['RoadTrafficDensity'], drop_first = True, dtype = int)\n",
        "df[trafficDummy.columns] = trafficDummy\n",
        "\n",
        "# create four new columns for the dataframe that represent each type of order\n",
        "orderDummy = pd.get_dummies(df['TypeOfOrder'], drop_first = True, dtype = int)\n",
        "df[orderDummy.columns] = orderDummy\n",
        "\n",
        "# create three new columns for the dataframe that represent each vehicle type\n",
        "vehicleDummy = pd.get_dummies(df['VehicleType'], drop_first = True, dtype = int)\n",
        "df[vehicleDummy.columns] = vehicleDummy\n",
        "\n",
        "# create three new columns for the dataframe that represent each city\n",
        "cityDummy = pd.get_dummies(df['City'], drop_first = True, dtype = int)\n",
        "df[cityDummy.columns] = cityDummy\n",
        "\n",
        "df.describe()"
      ]
    },
    {
      "cell_type": "markdown",
      "metadata": {
        "id": "myFMyABq6MTr"
      },
      "source": [
        "# Split the Data into Training Set and Testing Set"
      ]
    },
    {
      "cell_type": "code",
      "execution_count": null,
      "metadata": {
        "colab": {
          "base_uri": "https://localhost:8080/"
        },
        "id": "naLzzuoLjFPI",
        "outputId": "3281c801-d982-41c8-cb6c-5d6658503b2d"
      },
      "outputs": [
        {
          "name": "stdout",
          "output_type": "stream",
          "text": [
            "(1694, 22) (1694,)\n"
          ]
        }
      ],
      "source": [
        "# define predictors with dummy variables (subject to change)\n",
        "predictors = df[['DeliveryPersonAge', 'DeliveryPersonRatings', \\\n",
        "               'TimeOrdered', 'TimeOrderPickedUp', \\\n",
        "               'Sunny', 'Fog', 'Windy', 'Stormy', 'Sandstorms', \\\n",
        "               # 'Cloudy'\n",
        "               'Low', 'Medium', 'Jam', \\\n",
        "               # 'High'\n",
        "               'VehicleCondition', \\\n",
        "               # 'Good', 'Average', 'Bad', \\\n",
        "               'Snack', 'Drinks', 'Meal', \\\n",
        "               # 'Buffet'\n",
        "               'Scooter', 'Motorcycle', \\\n",
        "               # 'ElectricScooter'\n",
        "               'MultipleDeliveries', \\\n",
        "               # 'NoMultipleDeliveries', 'OneMultipleDeliveries', 'TwoMultipleDeliveries', 'ThreeMultipleDeliveries', \\\n",
        "               'Semi-Urban', 'Urban', \\\n",
        "               # 'Metropolitan'\n",
        "               'Distance(km)']]\n",
        "\n",
        "# define our response variable\n",
        "outcome = df['TimeTaken(min)']\n",
        "\n",
        "# randomly split the dataset into training sets and testing sets\n",
        "X_train, X_test, y_train, y_test = train_test_split(predictors, outcome, train_size = 0.80)\n",
        "\n",
        "print(X_train.shape, y_train.shape)\n",
        "# (1694, 22) (1694,)"
      ]
    },
    {
      "cell_type": "code",
      "execution_count": null,
      "metadata": {
        "id": "jtoV9QXwlJsM"
      },
      "outputs": [],
      "source": [
        "# create a csv file that contains the training sets\n",
        "X_train.to_csv('/content/drive/My Drive/MLBA/Project/X_train.csv', index = False)\n",
        "\n",
        "# create a csv file that contains the testing sets\n",
        "X_test.to_csv('/content/drive/My Drive/MLBA/Project/X_test.csv', index = False)\n",
        "\n",
        "# same for y training set and y testing set\n",
        "y_train.to_csv('/content/drive/My Drive/MLBA/Project/y_train.csv', index = False)\n",
        "y_test.to_csv('/content/drive/My Drive/MLBA/Project/y_test.csv', index = False)"
      ]
    },
    {
      "cell_type": "code",
      "source": [
        "# read the csv files that contains the training sets and testing sets\n",
        "\n",
        "X_train = pd.read_csv('/content/drive/My Drive/MLBA/Project/X_train.csv')\n",
        "X_test = pd.read_csv('/content/drive/My Drive/MLBA/Project/X_test.csv')\n",
        "\n",
        "y_train = pd.read_csv('/content/drive/My Drive/MLBA/Project/y_train.csv')\n",
        "y_test = pd.read_csv('/content/drive/My Drive/MLBA/Project/y_test.csv')"
      ],
      "metadata": {
        "id": "SbuzpJKSegN6"
      },
      "execution_count": null,
      "outputs": []
    },
    {
      "cell_type": "markdown",
      "metadata": {
        "id": "Xk0NSvdKIlpp"
      },
      "source": [
        "# Training a Baseline Naive Model"
      ]
    },
    {
      "cell_type": "code",
      "execution_count": null,
      "metadata": {
        "colab": {
          "base_uri": "https://localhost:8080/"
        },
        "id": "0abyn8E6Iqjw",
        "outputId": "b094d255-cce6-402d-9ee1-bce7eb232f3a"
      },
      "outputs": [
        {
          "name": "stdout",
          "output_type": "stream",
          "text": [
            "Baseline Naive MSE Train: 85.6490621110134\n",
            "Baseline Naive MSE Test: 86.19955453820361\n",
            "\n",
            "Baseline Naive RMSE Train: 9.25467785020167\n",
            "Baseline Naive RMSE Test: 9.284371520905635\n"
          ]
        }
      ],
      "source": [
        "# obtain the average of all of the observed outcomes (as the baseline)\n",
        "y_naive_hat = y_train.mean()\n",
        "\n",
        "# create an array of ones that is the size of y_train set, in which each element is then multiplied by the value of average observed outcome\n",
        "y_naive_hat_train = np.ones_like(y_train) * y_naive_hat\n",
        "y_naive_hat_test = np.ones_like(y_test) * y_naive_hat\n",
        "\n",
        "# compute the MSE for the baseline training set and the baseline testing set\n",
        "mse_naive_train = mean_squared_error(y_train, y_naive_hat_train)\n",
        "mse_naive_test = mean_squared_error(y_test, y_naive_hat_test)\n",
        "\n",
        "# baseline MSE should be higher than that obtained from any model\n",
        "print(\"Baseline Naive MSE Train:\", mse_naive_train)\n",
        "print(\"Baseline Naive MSE Test:\", mse_naive_test)\n",
        "print()\n",
        "print(\"Baseline Naive RMSE Train:\", math.sqrt(mse_naive_train))\n",
        "print(\"Baseline Naive RMSE Test:\", math.sqrt(mse_naive_test))"
      ]
    },
    {
      "cell_type": "markdown",
      "metadata": {
        "id": "F6y-KHWzKZSg"
      },
      "source": [
        "# Linear Regression Model"
      ]
    },
    {
      "cell_type": "code",
      "execution_count": null,
      "metadata": {
        "colab": {
          "base_uri": "https://localhost:8080/"
        },
        "id": "LlzSWM7Mv7C3",
        "outputId": "7610dff7-8acf-4399-afa4-3820fb13d801"
      },
      "outputs": [
        {
          "name": "stdout",
          "output_type": "stream",
          "text": [
            "Linear Regression MSE Train: 37.93325504833683\n",
            "Linear Regression MSE Test: 38.22836186475125\n",
            "\n",
            "Linear Regression RMSE Train: 6.158997893191459\n",
            "Linear Regression RMSE Test: 6.182908851402489\n"
          ]
        }
      ],
      "source": [
        "# instantiate a linear regression model\n",
        "linearRegModel = LinearRegression(fit_intercept = True)\n",
        "\n",
        "# fit the linear regression model to the training data\n",
        "linearRegModel.fit(X_train, y_train)\n",
        "\n",
        "# display the coefficients and intercept\n",
        "# linearRegModel.coef_, linearRegModel.intercept_\n",
        "\n",
        "\n",
        "# make predictions on the training set\n",
        "y_train_hat_lr = linearRegModel.predict(X_train)\n",
        "\n",
        "# evaluate the mean squared error on the training predictions\n",
        "mse_train_lr = mean_squared_error(y_train, y_train_hat_lr)\n",
        "\n",
        "# make predictions on the testing set\n",
        "y_test_hat_lr = linearRegModel.predict(X_test)\n",
        "\n",
        "# evaluate the mean squared error on the testing predictions\n",
        "mse_test_lr = mean_squared_error(y_test, y_test_hat_lr)\n",
        "\n",
        "print(\"Linear Regression MSE Train:\", mse_train_lr)\n",
        "print(\"Linear Regression MSE Test:\", mse_test_lr)\n",
        "print()\n",
        "print(\"Linear Regression RMSE Train:\", math.sqrt(mse_train_lr))\n",
        "print(\"Linear Regression RMSE Test:\", math.sqrt(mse_test_lr))"
      ]
    },
    {
      "cell_type": "markdown",
      "metadata": {
        "id": "wILMJ5mwKc_c"
      },
      "source": [
        "# Stepwise Feature Selection\n",
        "\n",
        "Note that the MSE for the training set and the testing set after variable selection may be higher than that before variable selection due to information loss. In other words, we are not using all of the predictors in the model to fit the data, only a subset of the predictors."
      ]
    },
    {
      "cell_type": "markdown",
      "metadata": {
        "id": "YuM6Hd7_VEMr"
      },
      "source": [
        "## Forward Selection"
      ]
    },
    {
      "cell_type": "code",
      "execution_count": null,
      "metadata": {
        "colab": {
          "base_uri": "https://localhost:8080/"
        },
        "id": "KgNZe1kyKP6k",
        "outputId": "c8f82c5d-bbee-4daa-dcee-2cad784c7238"
      },
      "outputs": [
        {
          "name": "stdout",
          "output_type": "stream",
          "text": [
            "['DeliveryPersonAge' 'DeliveryPersonRatings' 'Sunny' 'Fog' 'Stormy' 'Low'\n",
            " 'Jam' 'VehicleCondition' 'MultipleDeliveries' 'Semi-Urban' 'Urban']\n"
          ]
        }
      ],
      "source": [
        "# forward selection for features\n",
        "# initialize stepwise feature selection for forward selection\n",
        "sfs_forward = SequentialFeatureSelector(linearRegModel, direction = \"forward\").fit(X_train, y_train)\n",
        "predictors_forward = sfs_forward.get_feature_names_out()\n",
        "\n",
        "print(predictors_forward)"
      ]
    },
    {
      "cell_type": "code",
      "execution_count": null,
      "metadata": {
        "colab": {
          "base_uri": "https://localhost:8080/"
        },
        "id": "uEUh7zH6L6yQ",
        "outputId": "68605d27-1279-44f2-c152-506dc8987f94"
      },
      "outputs": [
        {
          "name": "stdout",
          "output_type": "stream",
          "text": [
            "MSE Train Forward: 39.25529781035853\n",
            "MSE Test Forward: 38.934705220459314\n",
            "\n",
            "RMSE Train Forward: 6.2654048401008\n",
            "RMSE Test Forward: 6.239768042199911\n"
          ]
        }
      ],
      "source": [
        "# using the predictors chosen from forward selection\n",
        "X_train_forward = X_train[predictors_forward]\n",
        "X_test_forward = X_test[predictors_forward]\n",
        "\n",
        "# fit the linear regression model with the forward-selected features\n",
        "linearRegModel.fit(X_train_forward, y_train)\n",
        "\n",
        "# make predictions on the training set\n",
        "y_train_forward_hat = linearRegModel.predict(X_train_forward)\n",
        "\n",
        "# evaluate the mean squared error on the training predictions\n",
        "mse_train_forward = mean_squared_error(y_train, y_train_forward_hat)\n",
        "\n",
        "# make predictions on the testing set\n",
        "y_test_forward_hat = linearRegModel.predict(X_test_forward)\n",
        "\n",
        "# evaluate the mean squared error on the testing predictions\n",
        "mse_test_forward = mean_squared_error(y_test, y_test_forward_hat)\n",
        "\n",
        "print(\"MSE Train Forward:\", mse_train_forward)\n",
        "print(\"MSE Test Forward:\", mse_test_forward)\n",
        "print()\n",
        "print(\"RMSE Train Forward:\", math.sqrt(mse_train_forward))\n",
        "print(\"RMSE Test Forward:\", math.sqrt(mse_test_forward))"
      ]
    },
    {
      "cell_type": "markdown",
      "metadata": {
        "id": "DwZ1TXplVHay"
      },
      "source": [
        "## Backward Selection"
      ]
    },
    {
      "cell_type": "code",
      "execution_count": null,
      "metadata": {
        "colab": {
          "base_uri": "https://localhost:8080/"
        },
        "id": "7ZNfdQIKNwJ6",
        "outputId": "54caf604-14d6-4454-8e71-61d8f1591cbd"
      },
      "outputs": [
        {
          "name": "stdout",
          "output_type": "stream",
          "text": [
            "['DeliveryPersonAge' 'DeliveryPersonRatings' 'Sunny' 'Windy' 'Stormy'\n",
            " 'Sandstorms' 'Low' 'Jam' 'VehicleCondition' 'MultipleDeliveries' 'Urban']\n"
          ]
        }
      ],
      "source": [
        "# backward selection for features\n",
        "\n",
        "sfs_backward = SequentialFeatureSelector(linearRegModel, direction = \"backward\").fit(X_train, y_train)\n",
        "predictors_backward = sfs_backward.get_feature_names_out()\n",
        "\n",
        "print(predictors_backward)"
      ]
    },
    {
      "cell_type": "code",
      "execution_count": null,
      "metadata": {
        "colab": {
          "base_uri": "https://localhost:8080/"
        },
        "id": "3fH-WbEEN1cS",
        "outputId": "c3220c4c-abbb-4de9-dce2-eb19b0ec36c2"
      },
      "outputs": [
        {
          "name": "stdout",
          "output_type": "stream",
          "text": [
            "MSE Train Backward: 39.39377246166859\n",
            "MSE Test Backward: 38.60379303763012\n",
            "\n",
            "RMSE Train Backward: 6.276445846310521\n",
            "RMSE Test Backward: 6.213195074808944\n"
          ]
        }
      ],
      "source": [
        "# using the predictors chosen from backward selection\n",
        "X_train_backward = X_train[predictors_backward]\n",
        "X_test_backward = X_test[predictors_backward]\n",
        "\n",
        "# fit the linear regression model with the backward-selected features\n",
        "linearRegModel.fit(X_train_backward, y_train)\n",
        "\n",
        "# make predictions on the training set\n",
        "y_train_backward_hat = linearRegModel.predict(X_train_backward)\n",
        "\n",
        "# evaluate the mean squared error on the training predictions\n",
        "mse_train_backward = mean_squared_error(y_train, y_train_backward_hat)\n",
        "\n",
        "# make predictions on the testing set\n",
        "y_test_backward_hat = linearRegModel.predict(X_test_backward)\n",
        "\n",
        "# evaluate the mean squared error on the testing predictions\n",
        "mse_test_backward = mean_squared_error(y_test, y_test_backward_hat)\n",
        "\n",
        "print(\"MSE Train Backward:\", mse_train_backward)\n",
        "print(\"MSE Test Backward:\", mse_test_backward)\n",
        "print()\n",
        "print(\"RMSE Train Backward:\", math.sqrt(mse_train_backward))\n",
        "print(\"RMSE Test Backward:\", math.sqrt(mse_test_backward))"
      ]
    },
    {
      "cell_type": "markdown",
      "metadata": {
        "id": "eB-rHAhCw__Q"
      },
      "source": [
        "# KNN\n",
        "\n",
        "K-nearest neighbors regression is a non-parametric method, which does not explicity assume a parametric form for the model, and thereby provide an alternative and more flexible approach for performing regression."
      ]
    },
    {
      "cell_type": "code",
      "execution_count": null,
      "metadata": {
        "colab": {
          "base_uri": "https://localhost:8080/",
          "height": 989
        },
        "id": "TLzXxjhnxCEP",
        "outputId": "b8688475-9a7f-4d90-a26c-70768b10da48"
      },
      "outputs": [
        {
          "name": "stdout",
          "output_type": "stream",
          "text": [
            "n_neighbors: 1, Average MSE: 72.04986472569863\n",
            "n_neighbors: 2, Average MSE: 53.782431795569984\n",
            "n_neighbors: 3, Average MSE: 46.833863763748035\n",
            "n_neighbors: 4, Average MSE: 45.694270042415035\n",
            "n_neighbors: 5, Average MSE: 43.91283936394896\n",
            "n_neighbors: 6, Average MSE: 43.977624369932066\n",
            "n_neighbors: 7, Average MSE: 43.33004517930124\n",
            "n_neighbors: 8, Average MSE: 42.09225309167234\n",
            "n_neighbors: 9, Average MSE: 43.98722075365295\n",
            "n_neighbors: 10, Average MSE: 42.137053446440106\n",
            "n_neighbors: 11, Average MSE: 42.36411589318329\n",
            "n_neighbors: 12, Average MSE: 42.40618972051068\n",
            "n_neighbors: 13, Average MSE: 42.42013083005385\n",
            "n_neighbors: 14, Average MSE: 41.770683271475846\n",
            "n_neighbors: 15, Average MSE: 41.87273889441622\n",
            "n_neighbors: 16, Average MSE: 42.151255160060046\n",
            "n_neighbors: 17, Average MSE: 41.953775471174026\n",
            "n_neighbors: 18, Average MSE: 41.90619643035308\n",
            "n_neighbors: 19, Average MSE: 42.39401124675691\n",
            "n_neighbors: 20, Average MSE: 42.20738243354104\n",
            "Optimal Number of Neighbors: 14\n",
            "\n",
            "Test MSE: 40.46196332306508\n",
            "Test RMSE: 6.360971885102549\n",
            "\n"
          ]
        },
        {
          "data": {
            "image/png": "[encoded data removed]",
            "text/plain": [
              "<Figure size 1000x600 with 1 Axes>"
            ]
          },
          "metadata": {},
          "output_type": "display_data"
        }
      ],
      "source": [
        "# set the number of folds for cross-validation (5)\n",
        "n_folds = 5\n",
        "kf = KFold(n_splits = n_folds, shuffle = True)\n",
        "\n",
        "neighbor_settings = range(1, 21) # range of neighbors to try\n",
        "\n",
        "avg_scores = [] # list to store the average MSE for each value of K\n",
        "\n",
        "# implement the loop for KNN regression with cross-validation\n",
        "for n_neighbors in neighbor_settings:\n",
        "    # pipeline with standardization and KNN regression\n",
        "    knn_pipeline = make_pipeline(StandardScaler(), KNeighborsRegressor(n_neighbors = n_neighbors))\n",
        "    # compute the MSE for each fold\n",
        "    scores = cross_val_score(knn_pipeline, X_train, y_train, cv = kf, scoring = 'neg_mean_squared_error')\n",
        "\n",
        "    avg_mse = np.mean(-scores)\n",
        "    avg_scores.append(avg_mse)\n",
        "\n",
        "    print(f\"n_neighbors: {n_neighbors}, Average MSE: {avg_mse}\")\n",
        "\n",
        "# obtain the optimal number of neighbors\n",
        "optimal_n_neighbors = neighbor_settings[np.argmin(avg_scores)]\n",
        "print(f\"Optimal Number of Neighbors: {optimal_n_neighbors}\")\n",
        "\n",
        "knn_pipeline_optimal = make_pipeline(StandardScaler(), KNeighborsRegressor(n_neighbors = optimal_n_neighbors))\n",
        "knn_pipeline_optimal.fit(X_train, y_train)\n",
        "\n",
        "test_mse = mean_squared_error(y_test, knn_pipeline_optimal.predict(X_test))\n",
        "print()\n",
        "print(\"Test MSE:\", test_mse)\n",
        "print(\"Test RMSE:\", math.sqrt(test_mse))\n",
        "print()\n",
        "# print(\"Optimal Number of Neighbors for Test:\", optimal_n_neighbors)\n",
        "\n",
        "plt.figure(figsize = (10, 6))\n",
        "plt.plot(neighbor_settings, avg_scores, marker = 'o')\n",
        "plt.xlabel('Number of Neighbors (n_neighbors)')\n",
        "plt.ylabel('Average MSE')\n",
        "plt.title('KNN Regression: MSE vs. Number of Neighbors')\n",
        "plt.grid(True)\n",
        "plt.show()"
      ]
    },
    {
      "cell_type": "markdown",
      "metadata": {
        "id": "lkh3Vc6Gmyyb"
      },
      "source": [
        "# Regularized Regression\n",
        "\n",
        "Our regularized regression models will include Lasso, Ridge, and Elastic Nets. A regularized regression puts constraints on the magnitude of the coefficients in the model."
      ]
    },
    {
      "cell_type": "markdown",
      "metadata": {
        "id": "fY9---nxnCbT"
      },
      "source": [
        "## Lasso Regression Model"
      ]
    },
    {
      "cell_type": "code",
      "execution_count": null,
      "metadata": {
        "colab": {
          "base_uri": "https://localhost:8080/"
        },
        "id": "jHFkXSwcwVuG",
        "outputId": "44f9577d-5fa0-4271-faf9-4b648a5e5d91"
      },
      "outputs": [
        {
          "name": "stdout",
          "output_type": "stream",
          "text": [
            "Optimal Alpha: 0.04641588833612782\n",
            "MSE (Train): 38.023176789248495\n",
            "MSE (Test): 38.18914125116932\n",
            "\n",
            "RMSE (Train): 6.166293602258045\n",
            "RMSE (Test): 6.17973634155773\n",
            "\n",
            "LASSO Coefficients: [ 2.03577208 -2.67468167  0.          0.58231321 -2.18816885  0.60731245\n",
            " -0.78138522 -0.93153802 -0.74206792 -2.69310173 -0.53787564  1.18286104\n",
            " -1.60469024  0.37725954 -0.          0.         -0.06376334 -0.\n",
            "  1.84532684 -0.76885464 -0.88619991 -0.13400636]\n"
          ]
        }
      ],
      "source": [
        "# standardize the data\n",
        "scaler = StandardScaler()\n",
        "X_train_std = scaler.fit_transform(X_train)\n",
        "X_test_std = scaler.transform(X_test)\n",
        "\n",
        "# create LASSO CV model\n",
        "lasso_cv = LassoCV(cv = 5, alphas = np.logspace(-4, 4, 100))\n",
        "lasso_cv.fit(X_train_std, y_train)\n",
        "\n",
        "# get the optimal alpha\n",
        "optimal_alpha = lasso_cv.alpha_\n",
        "print(\"Optimal Alpha:\", optimal_alpha)\n",
        "\n",
        "# apply the optimal alpha to LASSO model\n",
        "lasso = Lasso(alpha = optimal_alpha)\n",
        "lasso.fit(X_train_std, y_train)\n",
        "\n",
        "# make the predictions\n",
        "y_test_pred = lasso.predict(X_test_std)\n",
        "y_train_pred = lasso.predict(X_train_std)\n",
        "\n",
        "# evaluate performance (MSE)\n",
        "mse_train = mean_squared_error(y_train, y_train_pred)\n",
        "mse_test = mean_squared_error(y_test, y_test_pred)\n",
        "\n",
        "print(\"MSE (Train):\", mse_train)\n",
        "print(\"MSE (Test):\", mse_test)\n",
        "print()\n",
        "print(\"RMSE (Train):\", math.sqrt(mse_train))\n",
        "print(\"RMSE (Test):\", math.sqrt(mse_test))\n",
        "print()\n",
        "print(\"LASSO Coefficients:\", lasso.coef_)"
      ]
    },
    {
      "cell_type": "markdown",
      "metadata": {
        "id": "kz6nBekqt3xW"
      },
      "source": [
        "### 100 Different Lasso Regression Models with Lambdas"
      ]
    },
    {
      "cell_type": "code",
      "execution_count": null,
      "metadata": {
        "id": "9NzmReGqt7v-"
      },
      "outputs": [],
      "source": [
        "\n",
        "num_lambdas = 100\n",
        "lambdas = np.logspace(-4, 4, num_lambdas)\n",
        "\n",
        "y_train_hat = np.zeros((y_train.shape[0], num_lambdas))\n",
        "y_test_hat = np.zeros((y_test.shape[0], num_lambdas))\n",
        "coefficients = np.zeros((X_train.shape[1], num_lambdas))\n",
        "\n",
        "# Create LASSO model\n",
        "for i, current_lambda in enumerate(lambdas):\n",
        "  lasso = Lasso(alpha=current_lambda)\n",
        "  lasso.fit(X_train_std, y_train)\n",
        "\n",
        "  X_train_pred = lasso.predict(X_train_std)\n",
        "  X_test_pred = lasso.predict(X_test_std)\n",
        "\n",
        "  y_train_hat[:,i] = X_train_pred\n",
        "  y_test_hat[:,i] = X_test_pred\n",
        "  coefficients[:,i] = lasso.coef_"
      ]
    },
    {
      "cell_type": "markdown",
      "metadata": {
        "id": "hedzueYlgivY"
      },
      "source": [
        "### Strongest Predictors for Lasso Regression"
      ]
    },
    {
      "cell_type": "code",
      "execution_count": null,
      "metadata": {
        "colab": {
          "base_uri": "https://localhost:8080/",
          "height": 510
        },
        "id": "cyiqVanLgico",
        "outputId": "8e21eca2-7441-48ea-b282-c284d6ffd271"
      },
      "outputs": [
        {
          "data": {
            "image/png": "[encoded data removed]",
            "text/plain": [
              "<Figure size 640x480 with 1 Axes>"
            ]
          },
          "metadata": {},
          "output_type": "display_data"
        }
      ],
      "source": [
        "num_predictors = X_train_std.shape[1]\n",
        "\n",
        "plt.title(\"Test and Train MSE as lambda changes\")\n",
        "plt.xlabel(\"Lambda\")\n",
        "plt.ylabel(\"Coefficients\")\n",
        "plt.xscale(\"log\")\n",
        "\n",
        "# for i in range(num_predictors):\n",
        "#   plt.plot(..., ..., label=...)\n",
        "\n",
        "for i in range(9):\n",
        "    plt.plot(lambdas, coefficients[i],label = X_train.columns[i])\n",
        "\n",
        "for i in range(10, 20):\n",
        "    plt.plot(lambdas, coefficients[i],label = X_train.columns[i], linestyle=\":\")\n",
        "\n",
        "for i in range(20, 22):\n",
        "    plt.plot(lambdas, coefficients[i],label = X_train.columns[i], linestyle=\"-.\")\n",
        "\n",
        "\n",
        "# Set y-axis limits\n",
        "plt.ylim(-3, 2.5)\n",
        "plt.xlim(-10000, 10)\n",
        "\n",
        "plt.legend(loc='upper left', bbox_to_anchor=(1, 1))\n",
        "\n",
        "plt.show()"
      ]
    },
    {
      "cell_type": "markdown",
      "metadata": {
        "id": "1w4EWvp8nElN"
      },
      "source": [
        "## Ridge Regression Model"
      ]
    },
    {
      "cell_type": "code",
      "execution_count": null,
      "metadata": {
        "colab": {
          "base_uri": "https://localhost:8080/"
        },
        "id": "MFoKuX0Nm-z1",
        "outputId": "1c9ec4dc-9059-4406-c334-9f250c12eae5"
      },
      "outputs": [
        {
          "name": "stdout",
          "output_type": "stream",
          "text": [
            "[1. 1. 1. 1. 1. 1. 1. 1. 1. 1. 1. 1. 1. 1. 1. 1. 1. 1. 1. 1. 1. 1.] [-2.56911113e-16  1.39885480e-15  1.40514650e-16 -6.29170073e-17\n",
            " -2.30695693e-17 -2.09723358e-18 -5.97711569e-17 -3.67015876e-17\n",
            "  5.45280730e-17 -1.10104763e-16  1.46806350e-17 -3.56529708e-17\n",
            " -8.80838102e-17 -7.13059416e-17  3.35557372e-17 -4.08960547e-17\n",
            " -2.93612701e-17 -4.19446715e-18  7.96948759e-17 -1.25834015e-17\n",
            " -3.72258960e-17 -8.38893431e-18]\n",
            "[0.99329415 0.92955012 1.04972753 1.05017453 1.04786924 1.06332318\n",
            " 0.90436278 1.03866662 0.92297375 1.01942025 0.95560721 0.96497834\n",
            " 1.00280526 1.03207732 0.96352066 1.02900845 0.97582582 0.98318937\n",
            " 1.00398697 0.93791719 1.06384195 1.34409915] [-0.07652919  0.0290111  -0.04242589 -0.0420629   0.05425485  0.07230685\n",
            " -0.09901813  0.04531021 -0.08272768  0.05933414 -0.06707143 -0.08819019\n",
            "  0.00801214  0.05818237 -0.06133985  0.04932397 -0.06323293  0.07531845\n",
            " -0.02616416 -0.01936928  0.10941205  0.04941535]\n"
          ]
        }
      ],
      "source": [
        "# standardize the data\n",
        "scaler = StandardScaler()\n",
        "X1_std_train = scaler.fit_transform(X_train)\n",
        "X1_std_test = scaler.transform(X_test)\n",
        "\n",
        "print(X1_std_train[:,:].std(axis=0), X1_std_train[:,:].mean(axis=0))\n",
        "print(X1_std_test[:,:].std(axis=0), X1_std_test[:,:].mean(axis=0))"
      ]
    },
    {
      "cell_type": "code",
      "execution_count": null,
      "metadata": {
        "colab": {
          "base_uri": "https://localhost:8080/"
        },
        "id": "J92xmme1nC3M",
        "outputId": "4b295051-b48c-421a-cab3-529134a2b62c"
      },
      "outputs": [
        {
          "data": {
            "text/plain": [
              "0.5570931590573455"
            ]
          },
          "execution_count": 70,
          "metadata": {},
          "output_type": "execute_result"
        }
      ],
      "source": [
        "# create Ridge CV model\n",
        "clf = RidgeCV(alphas=[1e-3, 1e-2, 1e-1, 1]).fit(X_train, y_train)\n",
        "clf.score(X_train, y_train)"
      ]
    },
    {
      "cell_type": "code",
      "execution_count": null,
      "metadata": {
        "colab": {
          "base_uri": "https://localhost:8080/"
        },
        "id": "sESEnmR4nEvQ",
        "outputId": "f28a7296-6695-41bb-d51a-1bee90aa15aa"
      },
      "outputs": [
        {
          "name": "stdout",
          "output_type": "stream",
          "text": [
            "Optimal Alpha 31.257158496882415\n"
          ]
        }
      ],
      "source": [
        "ridgecv = RidgeCV(cv = 5, alphas = np.logspace(-4,4,100))\n",
        "ridgecv.fit(X1_std_train, y_train)\n",
        "optimal_alpha = ridgecv.alpha_\n",
        "print(\"Optimal Alpha\", optimal_alpha)"
      ]
    },
    {
      "cell_type": "code",
      "execution_count": null,
      "metadata": {
        "colab": {
          "base_uri": "https://localhost:8080/"
        },
        "id": "rYwImpAnm57I",
        "outputId": "9b79c1b2-3a59-4ca6-de16-c87526fd98a4"
      },
      "outputs": [
        {
          "data": {
            "text/plain": [
              "array([ 2.04935935, -2.66351957,  0.24961851,  0.38019975, -2.24124671,\n",
              "        0.58280564, -0.85411374, -0.99958143, -0.81122705, -2.71912891,\n",
              "       -0.59068358,  1.15487652, -1.68863201,  0.45717193,  0.03005198,\n",
              "        0.06757278, -0.32808384, -0.3045738 ,  1.85112503, -0.80511849,\n",
              "       -0.9123446 , -0.18042814])"
            ]
          },
          "execution_count": 72,
          "metadata": {},
          "output_type": "execute_result"
        }
      ],
      "source": [
        "ridge = Ridge(alpha = optimal_alpha)\n",
        "# fit the model to the training data\n",
        "ridge.fit(X1_std_train, y_train)\n",
        "\n",
        "# display the coefficients\n",
        "ridge.coef_"
      ]
    },
    {
      "cell_type": "code",
      "execution_count": null,
      "metadata": {
        "colab": {
          "base_uri": "https://localhost:8080/"
        },
        "id": "Gc7IXWUliN7M",
        "outputId": "3a580c9b-32b7-48b3-e524-c3c3ef9fc916"
      },
      "outputs": [
        {
          "name": "stdout",
          "output_type": "stream",
          "text": [
            "MSE (Train): 37.95717199406947\n",
            "RMSE (Train): 6.16093921363208\n"
          ]
        }
      ],
      "source": [
        "# make predictions on the training set\n",
        "y_train_fit_ridge = ridge.predict(X1_std_train)\n",
        "mse_train_ridge = mean_squared_error(y_train, y_train_fit_ridge)\n",
        "\n",
        "print(\"MSE (Train):\", mse_train_ridge)\n",
        "print(\"RMSE (Train):\", math.sqrt(mse_train_ridge))"
      ]
    },
    {
      "cell_type": "code",
      "execution_count": null,
      "metadata": {
        "colab": {
          "base_uri": "https://localhost:8080/"
        },
        "id": "APzFtrL6iH9k",
        "outputId": "b738968a-d92e-431a-f1f7-82d5136e68e2"
      },
      "outputs": [
        {
          "name": "stdout",
          "output_type": "stream",
          "text": [
            "MSE (Test): 38.267136587370125\n",
            "RMSE (Test): 6.186043694266161\n"
          ]
        }
      ],
      "source": [
        "# make predictions on the testing set\n",
        "y_test_fit_ridge = ridge.predict(X1_std_test)\n",
        "mse_test_ridge = mean_squared_error(y_test, y_test_fit_ridge)\n",
        "\n",
        "print(\"MSE (Test):\", mse_test_ridge)\n",
        "print(\"RMSE (Test):\", math.sqrt(mse_test_ridge))"
      ]
    },
    {
      "cell_type": "markdown",
      "metadata": {
        "id": "SoqQSVFkJM65"
      },
      "source": [
        "## Elastic Nets Model"
      ]
    },
    {
      "cell_type": "code",
      "execution_count": null,
      "metadata": {
        "colab": {
          "base_uri": "https://localhost:8080/"
        },
        "id": "uk7E2xYWJR71",
        "outputId": "99ec2023-9817-4079-9cef-c268a62c1d73"
      },
      "outputs": [
        {
          "name": "stdout",
          "output_type": "stream",
          "text": [
            "[1. 1. 1. 1. 1. 1. 1. 1. 1. 1. 1. 1. 1. 1. 1. 1. 1. 1. 1. 1. 1. 1.] [-2.56911113e-16  1.39885480e-15  1.40514650e-16 -6.29170073e-17\n",
            " -2.30695693e-17 -2.09723358e-18 -5.97711569e-17 -3.67015876e-17\n",
            "  5.45280730e-17 -1.10104763e-16  1.46806350e-17 -3.56529708e-17\n",
            " -8.80838102e-17 -7.13059416e-17  3.35557372e-17 -4.08960547e-17\n",
            " -2.93612701e-17 -4.19446715e-18  7.96948759e-17 -1.25834015e-17\n",
            " -3.72258960e-17 -8.38893431e-18]\n",
            "[0.99329415 0.92955012 1.04972753 1.05017453 1.04786924 1.06332318\n",
            " 0.90436278 1.03866662 0.92297375 1.01942025 0.95560721 0.96497834\n",
            " 1.00280526 1.03207732 0.96352066 1.02900845 0.97582582 0.98318937\n",
            " 1.00398697 0.93791719 1.06384195 1.34409915] [-0.07652919  0.0290111  -0.04242589 -0.0420629   0.05425485  0.07230685\n",
            " -0.09901813  0.04531021 -0.08272768  0.05933414 -0.06707143 -0.08819019\n",
            "  0.00801214  0.05818237 -0.06133985  0.04932397 -0.06323293  0.07531845\n",
            " -0.02616416 -0.01936928  0.10941205  0.04941535]\n"
          ]
        }
      ],
      "source": [
        "# standardize the data\n",
        "scaler = StandardScaler()\n",
        "X_std_train = scaler.fit_transform(X_train)\n",
        "X_std_test = scaler.transform(X_test)\n",
        "\n",
        "print(X_std_train[:,:].std(axis=0), X_std_train[:,:].mean(axis=0))\n",
        "print(X_std_test[:,:].std(axis=0), X_std_test[:,:].mean(axis=0))"
      ]
    },
    {
      "cell_type": "code",
      "execution_count": null,
      "metadata": {
        "colab": {
          "base_uri": "https://localhost:8080/"
        },
        "id": "-xNWSPWSL2j3",
        "outputId": "c31aa1b7-03d4-41a0-d57a-c5e9f4b02a61"
      },
      "outputs": [
        {
          "name": "stdout",
          "output_type": "stream",
          "text": [
            "RMSE (Train): 6.826553248299238\n",
            "MSE (Train): 46.60182925186488\n",
            "\n",
            "RMSE (Test): 6.840408157904291\n",
            "MSE (Test): 46.79118376672357\n"
          ]
        }
      ],
      "source": [
        "elnet = ElasticNet(l1_ratio = 0.5)\n",
        "\n",
        "# fit the model to the training data\n",
        "elnet.fit(X_std_train, y_train)\n",
        "\n",
        "# make the predictions on the train and test sets\n",
        "y_train_fit_elnet = elnet.predict(X_std_train)\n",
        "y_test_fit_elnet = elnet.predict(X_std_test)\n",
        "\n",
        "# compute the MSE\n",
        "mse_train_elnet = mean_squared_error(y_train, y_train_fit_elnet)\n",
        "mse_test_elnet = mean_squared_error(y_test, y_test_fit_elnet)\n",
        "\n",
        "\n",
        "# print(np.sqrt(mse_test_elnet), mse_train_elnet, mse_test_elnet)\n",
        "\n",
        "print(\"RMSE (Train):\", math.sqrt(mse_train_elnet))\n",
        "print(\"MSE (Train):\", mse_train_elnet)\n",
        "print()\n",
        "print(\"RMSE (Test):\", math.sqrt(mse_test_elnet))\n",
        "print(\"MSE (Test):\", mse_test_elnet)"
      ]
    },
    {
      "cell_type": "code",
      "execution_count": null,
      "metadata": {
        "colab": {
          "base_uri": "https://localhost:8080/"
        },
        "id": "OOdNFSDfn5k1",
        "outputId": "d6e7cc50-2e51-4321-c162-d991b8861224"
      },
      "outputs": [
        {
          "name": "stdout",
          "output_type": "stream",
          "text": [
            "Best aAlpha: 0.01\n",
            "Best l1_ratio: 0.01\n",
            "MSE Train: 37.94305442334653\n",
            "MSE Test: 38.233723657113416\n",
            "RMSE Test: 6.183342434081539\n",
            "Percentage Change in MSE Test: -18.288616403195068 %\n"
          ]
        }
      ],
      "source": [
        "elnet_cv = ElasticNetCV(alphas=[0.01, 0.1, 1.0, 10.0], l1_ratio=[0.01, 0.1, 0.3, 0.5, 0.7, 0.9, 0.99, 1], cv=5)\n",
        "\n",
        "# fit the model to the training data\n",
        "elnet_cv.fit(X_std_train, y_train)\n",
        "\n",
        "# get the best alpha and l1_ratio values\n",
        "best_alpha = elnet_cv.alpha_\n",
        "best_l1_ratio = elnet_cv.l1_ratio_\n",
        "\n",
        "# make predictions on CV model\n",
        "y_train_fit_elnet_cv = elnet_cv.predict(X_std_train)\n",
        "y_test_fit_elnet_cv= elnet_cv.predict(X_std_test)\n",
        "\n",
        "# evaluate performance (MSE)\n",
        "mse_train_elnet_cv = mean_squared_error(y_train, y_train_fit_elnet_cv)\n",
        "mse_test_elnet_cv = mean_squared_error(y_test, y_test_fit_elnet_cv)\n",
        "\n",
        "print(f\"Best aAlpha: {best_alpha}\")\n",
        "print(f\"Best l1_ratio: {best_l1_ratio}\")\n",
        "print(f\"MSE Train: {mse_train_elnet_cv}\")\n",
        "print(f\"MSE Test: {mse_test_elnet_cv}\")\n",
        "print(f\"RMSE Test: {math.sqrt(mse_test_elnet_cv)}\")\n",
        "print(f\"Percentage Change in MSE Test:\",(((mse_test_elnet_cv - mse_test_elnet)/mse_test_elnet) * 100),\"%\")"
      ]
    },
    {
      "cell_type": "markdown",
      "metadata": {
        "id": "zboDaJFWwZyG"
      },
      "source": [
        "# Ensemble Methods\n",
        "\n",
        "Random Forests, Bagging, and Boosting are ensemble methods, in which the overall model fit is produced from many regression trees."
      ]
    },
    {
      "cell_type": "markdown",
      "metadata": {
        "id": "cp1fhrsRwr5G"
      },
      "source": [
        "## Random Forests"
      ]
    },
    {
      "cell_type": "markdown",
      "metadata": {
        "id": "8GAZo8yRsRpW"
      },
      "source": [
        "### Decision Tree"
      ]
    },
    {
      "cell_type": "code",
      "execution_count": null,
      "metadata": {
        "colab": {
          "base_uri": "https://localhost:8080/"
        },
        "id": "FXGio5cksOr5",
        "outputId": "113fc21c-555f-484a-be69-45b7fb242e54"
      },
      "outputs": [
        {
          "output_type": "stream",
          "name": "stdout",
          "text": [
            "37.405660377358494\n"
          ]
        }
      ],
      "source": [
        "# instantiate the decision tree\n",
        "dt = tree.DecisionTreeRegressor()\n",
        "dt.fit(X_train, y_train)\n",
        "tree_hat = dt.predict(X_test)\n",
        "print(mean_squared_error(y_test, tree_hat))"
      ]
    },
    {
      "cell_type": "markdown",
      "metadata": {
        "id": "O00K5DGSG81Q"
      },
      "source": [
        "### Naive Random Forest"
      ]
    },
    {
      "cell_type": "code",
      "execution_count": null,
      "metadata": {
        "colab": {
          "base_uri": "https://localhost:8080/"
        },
        "id": "dO76ONspFlXr",
        "outputId": "b2d5bf0e-d569-434e-cbc8-765284e1296f"
      },
      "outputs": [
        {
          "output_type": "stream",
          "name": "stdout",
          "text": [
            "RMSE (Train): 1.7705488780030545\n",
            "MSE (Train): 3.134843329397875\n",
            "\n",
            "RMSE (Test): 4.605037950799308\n",
            "MSE (Test): 21.206374528301886\n"
          ]
        }
      ],
      "source": [
        "# create a naive random forest model\n",
        "rf_naive = RandomForestRegressor(n_jobs = -1)\n",
        "\n",
        "# fit the model to the training data\n",
        "rf_naive = RandomForestRegressor()\n",
        "rf_naive.fit(X_train,y_train)\n",
        "yhat_train = rf_naive.predict(X_train)\n",
        "yhat_naive = rf_naive.predict(X_test)\n",
        "\n",
        "print(\"RMSE (Train):\", math.sqrt(mean_squared_error(y_train, yhat_train)))\n",
        "print(\"MSE (Train):\", mean_squared_error(y_train, yhat_train))\n",
        "print()\n",
        "print(\"RMSE (Test):\", math.sqrt(mean_squared_error(y_test, yhat_naive)))\n",
        "print(\"MSE (Test):\", mean_squared_error(y_test, yhat_naive))"
      ]
    },
    {
      "cell_type": "markdown",
      "metadata": {
        "id": "oed5vKF3HCBj"
      },
      "source": [
        "### Random Forest Tuning"
      ]
    },
    {
      "cell_type": "code",
      "execution_count": null,
      "metadata": {
        "colab": {
          "base_uri": "https://localhost:8080/"
        },
        "id": "2HzbyoB2FujL",
        "outputId": "3d610d41-9458-4e15-d28b-86533faa95af"
      },
      "outputs": [
        {
          "output_type": "stream",
          "name": "stdout",
          "text": [
            "MSE (Test): 20.819203915094338\n",
            "RMSE (Test): 4.562806583134369\n",
            "{'max_depth': 50, 'min_samples_split': 2}\n"
          ]
        }
      ],
      "source": [
        "max_depth = max_depth = list(range(20,81,10)) # max depth of the tree\n",
        "max_depth.append(None)\n",
        "min_samples_split = [2,3,5] # minimum number of samples required to split a node\n",
        "\n",
        "param_grid ={\n",
        "    'max_depth': max_depth,\n",
        "    'min_samples_split': min_samples_split,\n",
        "}\n",
        "\n",
        "# cross validation\n",
        "rf_cv = GridSearchCV(estimator = RandomForestRegressor(max_features = int((X_train.shape[1])//2), n_estimators = 500),\n",
        "                      param_grid = param_grid,\n",
        "                      scoring = \"neg_mean_squared_error\")\n",
        "rf_cv.fit(X_train,y_train) # fit the model to the training data\n",
        "yhat_cv = rf_cv.predict(X_test) # make predictions on the testing set\n",
        "\n",
        "print(\"MSE (Test):\", mean_squared_error(y_test, yhat_cv))\n",
        "print(\"RMSE (Test):\", math.sqrt(mean_squared_error(y_test, yhat_cv)))\n",
        "print(rf_cv.best_params_)"
      ]
    },
    {
      "cell_type": "markdown",
      "metadata": {
        "id": "WOs9kv3KHN6r"
      },
      "source": [
        "### Feature Importance Plot"
      ]
    },
    {
      "cell_type": "code",
      "execution_count": null,
      "metadata": {
        "colab": {
          "base_uri": "https://localhost:8080/",
          "height": 74
        },
        "id": "8MG5KPzotLgw",
        "outputId": "a3b41a6d-271f-4b70-f2c8-971f9d71f233"
      },
      "outputs": [
        {
          "output_type": "execute_result",
          "data": {
            "text/plain": [
              "RandomForestRegressor(max_depth=60, max_features=11, n_estimators=500)"
            ],
            "text/html": [
              "<style>#sk-container-id-2 {color: black;background-color: white;}#sk-container-id-2 pre{padding: 0;}#sk-container-id-2 div.sk-toggleable {background-color: white;}#sk-container-id-2 label.sk-toggleable__label {cursor: pointer;display: block;width: 100%;margin-bottom: 0;padding: 0.3em;box-sizing: border-box;text-align: center;}#sk-container-id-2 label.sk-toggleable__label-arrow:before {content: \"▸\";float: left;margin-right: 0.25em;color: #696969;}#sk-container-id-2 label.sk-toggleable__label-arrow:hover:before {color: black;}#sk-container-id-2 div.sk-estimator:hover label.sk-toggleable__label-arrow:before {color: black;}#sk-container-id-2 div.sk-toggleable__content {max-height: 0;max-width: 0;overflow: hidden;text-align: left;background-color: #f0f8ff;}#sk-container-id-2 div.sk-toggleable__content pre {margin: 0.2em;color: black;border-radius: 0.25em;background-color: #f0f8ff;}#sk-container-id-2 input.sk-toggleable__control:checked~div.sk-toggleable__content {max-height: 200px;max-width: 100%;overflow: auto;}#sk-container-id-2 input.sk-toggleable__control:checked~label.sk-toggleable__label-arrow:before {content: \"▾\";}#sk-container-id-2 div.sk-estimator input.sk-toggleable__control:checked~label.sk-toggleable__label {background-color: #d4ebff;}#sk-container-id-2 div.sk-label input.sk-toggleable__control:checked~label.sk-toggleable__label {background-color: #d4ebff;}#sk-container-id-2 input.sk-hidden--visually {border: 0;clip: rect(1px 1px 1px 1px);clip: rect(1px, 1px, 1px, 1px);height: 1px;margin: -1px;overflow: hidden;padding: 0;position: absolute;width: 1px;}#sk-container-id-2 div.sk-estimator {font-family: monospace;background-color: #f0f8ff;border: 1px dotted black;border-radius: 0.25em;box-sizing: border-box;margin-bottom: 0.5em;}#sk-container-id-2 div.sk-estimator:hover {background-color: #d4ebff;}#sk-container-id-2 div.sk-parallel-item::after {content: \"\";width: 100%;border-bottom: 1px solid gray;flex-grow: 1;}#sk-container-id-2 div.sk-label:hover label.sk-toggleable__label {background-color: #d4ebff;}#sk-container-id-2 div.sk-serial::before {content: \"\";position: absolute;border-left: 1px solid gray;box-sizing: border-box;top: 0;bottom: 0;left: 50%;z-index: 0;}#sk-container-id-2 div.sk-serial {display: flex;flex-direction: column;align-items: center;background-color: white;padding-right: 0.2em;padding-left: 0.2em;position: relative;}#sk-container-id-2 div.sk-item {position: relative;z-index: 1;}#sk-container-id-2 div.sk-parallel {display: flex;align-items: stretch;justify-content: center;background-color: white;position: relative;}#sk-container-id-2 div.sk-item::before, #sk-container-id-2 div.sk-parallel-item::before {content: \"\";position: absolute;border-left: 1px solid gray;box-sizing: border-box;top: 0;bottom: 0;left: 50%;z-index: -1;}#sk-container-id-2 div.sk-parallel-item {display: flex;flex-direction: column;z-index: 1;position: relative;background-color: white;}#sk-container-id-2 div.sk-parallel-item:first-child::after {align-self: flex-end;width: 50%;}#sk-container-id-2 div.sk-parallel-item:last-child::after {align-self: flex-start;width: 50%;}#sk-container-id-2 div.sk-parallel-item:only-child::after {width: 0;}#sk-container-id-2 div.sk-dashed-wrapped {border: 1px dashed gray;margin: 0 0.4em 0.5em 0.4em;box-sizing: border-box;padding-bottom: 0.4em;background-color: white;}#sk-container-id-2 div.sk-label label {font-family: monospace;font-weight: bold;display: inline-block;line-height: 1.2em;}#sk-container-id-2 div.sk-label-container {text-align: center;}#sk-container-id-2 div.sk-container {/* jupyter's `normalize.less` sets `[hidden] { display: none; }` but bootstrap.min.css set `[hidden] { display: none !important; }` so we also need the `!important` here to be able to override the default hidden behavior on the sphinx rendered scikit-learn.org. See: https://github.com/scikit-learn/scikit-learn/issues/21755 */display: inline-block !important;position: relative;}#sk-container-id-2 div.sk-text-repr-fallback {display: none;}</style><div id=\"sk-container-id-2\" class=\"sk-top-container\"><div class=\"sk-text-repr-fallback\"><pre>RandomForestRegressor(max_depth=60, max_features=11, n_estimators=500)</pre><b>In a Jupyter environment, please rerun this cell to show the HTML representation or trust the notebook. <br />On GitHub, the HTML representation is unable to render, please try loading this page with nbviewer.org.</b></div><div class=\"sk-container\" hidden><div class=\"sk-item\"><div class=\"sk-estimator sk-toggleable\"><input class=\"sk-toggleable__control sk-hidden--visually\" id=\"sk-estimator-id-2\" type=\"checkbox\" checked><label for=\"sk-estimator-id-2\" class=\"sk-toggleable__label sk-toggleable__label-arrow\">RandomForestRegressor</label><div class=\"sk-toggleable__content\"><pre>RandomForestRegressor(max_depth=60, max_features=11, n_estimators=500)</pre></div></div></div></div></div>"
            ]
          },
          "metadata": {},
          "execution_count": 116
        }
      ],
      "source": [
        "rf_plt = RandomForestRegressor(n_estimators = 500, max_features = int((X_train.shape[1])//2), **rf_cv.best_params_)\n",
        "rf_plt.fit(X_train, y_train)"
      ]
    },
    {
      "cell_type": "code",
      "execution_count": null,
      "metadata": {
        "colab": {
          "base_uri": "https://localhost:8080/",
          "height": 595
        },
        "id": "7XPAv4GkGAJD",
        "outputId": "4630c0e3-0a86-4e8e-c456-b8b4286cade9"
      },
      "outputs": [
        {
          "output_type": "execute_result",
          "data": {
            "text/plain": [
              "Text(0.5, 1.0, 'Feature Importance Plot')"
            ]
          },
          "metadata": {},
          "execution_count": 117
        },
        {
          "output_type": "display_data",
          "data": {
            "text/plain": [
              "<Figure size 640x480 with 1 Axes>"
            ],
            "image/png": "[encoded data removed]"
          },
          "metadata": {}
        }
      ],
      "source": [
        "col_names = X_train.columns.tolist() # list of column names\n",
        "feature_importances = rf_plt.feature_importances_ # feature importance\n",
        "\n",
        "plt.bar(col_names,feature_importances)\n",
        "plt.xlabel('Features')\n",
        "plt.ylabel('Feature Importance Measure')\n",
        "plt.xticks(rotation=45, ha='right')\n",
        "plt.title('Feature Importance Plot')"
      ]
    },
    {
      "cell_type": "markdown",
      "metadata": {
        "id": "ZTdTBDT3wzC0"
      },
      "source": [
        "## Boosting"
      ]
    },
    {
      "cell_type": "code",
      "execution_count": null,
      "metadata": {
        "colab": {
          "base_uri": "https://localhost:8080/"
        },
        "id": "7h65ImpGmizP",
        "outputId": "96aeb607-a719-4bd0-f653-2cab930020d8"
      },
      "outputs": [
        {
          "output_type": "stream",
          "name": "stdout",
          "text": [
            "RMSE (Test): 4.466647332056807\n",
            "MSE (Test): 19.95093838897019\n"
          ]
        }
      ],
      "source": [
        "rf_boost = RandomForestRegressor(n_estimators = 500, max_features = int((X_train.shape[1])//2), **rf_cv.best_params_)\n",
        "boost_regr = AdaBoostRegressor(rf_boost) # boosting model\n",
        "boost_regr.fit(X_train, y_train) # fit the model to the training data\n",
        "yhat_boost = boost_regr.predict(X_test) # make predictions on the testing set\n",
        "\n",
        "print(\"RMSE (Test):\", math.sqrt(mean_squared_error(y_test, yhat_boost)))\n",
        "print(\"MSE (Test):\", mean_squared_error(y_test, yhat_boost))"
      ]
    },
    {
      "cell_type": "code",
      "execution_count": null,
      "metadata": {
        "colab": {
          "base_uri": "https://localhost:8080/"
        },
        "id": "ovm-y2TPmc0M",
        "outputId": "472698c6-0f52-4a71-b9a5-56913fb7c632"
      },
      "outputs": [
        {
          "output_type": "stream",
          "name": "stdout",
          "text": [
            "MSE (Test): 19.96630611041986\n",
            "RMSE (Test): 4.4683672756858135\n",
            "{'learning_rate': 0.1, 'n_estimators': 180}\n"
          ]
        }
      ],
      "source": [
        "param_grid = {\n",
        "    'learning_rate': [0.1, 0.01],\n",
        "    'n_estimators': [130,150,180],\n",
        "}\n",
        "\n",
        "# cross validation (5-fold) for boosting\n",
        "boost_cv = GridSearchCV(estimator = boost_regr, param_grid = param_grid, scoring=\"neg_mean_squared_error\")\n",
        "\n",
        "# fit the boosting model\n",
        "boost_cv.fit(X_train, y_train)\n",
        "# make predictions\n",
        "yhat_boost = boost_cv.predict(X_test)\n",
        "print(\"MSE (Test):\", mean_squared_error(y_test, yhat_boost))\n",
        "print(\"RMSE (Test):\", math.sqrt(mean_squared_error(y_test, yhat_boost)))\n",
        "print(boost_cv.best_params_)"
      ]
    },
    {
      "cell_type": "markdown",
      "metadata": {
        "id": "XzldZzMiwvkg"
      },
      "source": [
        "## Bagging"
      ]
    },
    {
      "cell_type": "code",
      "execution_count": null,
      "metadata": {
        "id": "i91du9zOuJXB",
        "colab": {
          "base_uri": "https://localhost:8080/"
        },
        "outputId": "b7f6132b-d424-48f8-ca15-84302adcbe6f"
      },
      "outputs": [
        {
          "output_type": "stream",
          "name": "stdout",
          "text": [
            "RMSE (Naive): 4.776606220019825\n",
            "MSE (Naive): 22.815966981132078\n"
          ]
        }
      ],
      "source": [
        "bag_naive = BaggingRegressor(max_features = X_train.shape[1]) # instantiate the naive bagging model\n",
        "bag_naive.fit(X_train, y_train) # fit to the training data\n",
        "yhat_bag_naive = bag_naive.predict(X_test) # make predictions\n",
        "\n",
        "print(\"RMSE (Naive):\", math.sqrt(mean_squared_error(y_test, yhat_bag_naive)))\n",
        "print(\"MSE (Naive):\", mean_squared_error(y_test, yhat_bag_naive))"
      ]
    },
    {
      "cell_type": "markdown",
      "metadata": {
        "id": "aTIEtpo-HfOV"
      },
      "source": [
        "### Tuning Bagged Model"
      ]
    },
    {
      "cell_type": "code",
      "execution_count": null,
      "metadata": {
        "id": "i8sSCHZrw1z1",
        "colab": {
          "base_uri": "https://localhost:8080/"
        },
        "outputId": "77d0b082-fc20-4993-a089-587411737420"
      },
      "outputs": [
        {
          "output_type": "stream",
          "name": "stdout",
          "text": [
            "{'max_features': 0.9, 'n_estimators': 260}\n",
            "\n",
            "RMSE (Test): 4.550069877026686\n",
            "MSE (Test): 20.703135885825642\n"
          ]
        }
      ],
      "source": [
        "bag_grid = {\n",
        "    'n_estimators':[int(x) for x in list(range(170, 301, 10))],\n",
        "    'max_features': [0.5, 0.7, 0.9],\n",
        "\n",
        "}\n",
        "\n",
        "# cross validation\n",
        "bag_cv = GridSearchCV(BaggingRegressor(), param_grid = bag_grid, scoring = \"neg_mean_squared_error\")\n",
        "\n",
        "# fitting the model\n",
        "bag_cv.fit(X_train, y_train)\n",
        "# make predictions\n",
        "yhat_bag = bag_cv.predict(X_test)\n",
        "\n",
        "print(bag_cv.best_params_)\n",
        "print()\n",
        "print(\"RMSE (Test):\", math.sqrt(mean_squared_error(y_test, yhat_bag)))\n",
        "print(\"MSE (Test):\", mean_squared_error(y_test, yhat_bag))"
      ]
    },
    {
      "cell_type": "markdown",
      "metadata": {
        "id": "SiL1qMPGHlSJ"
      },
      "source": [
        "### Bagging with Out of Bag Error"
      ]
    },
    {
      "cell_type": "code",
      "execution_count": null,
      "metadata": {
        "id": "nNec0fCEulTA",
        "colab": {
          "base_uri": "https://localhost:8080/"
        },
        "outputId": "41f0b981-8fcb-4e13-b461-3ab5b2088f88"
      },
      "outputs": [
        {
          "output_type": "stream",
          "name": "stdout",
          "text": [
            "MSE (Test): 20.49463617065486\n",
            "RMSE (Test): 4.527100194457249\n"
          ]
        }
      ],
      "source": [
        "OOB_bag = BaggingRegressor(**bag_cv.best_params_, oob_score = True)\n",
        "OOB_bag.fit(X_train, y_train)\n",
        "yhat_OOB = OOB_bag.predict(X_test)\n",
        "print(\"MSE (Test):\", mean_squared_error(y_test, yhat_OOB))\n",
        "print(\"RMSE (Test):\", math.sqrt(mean_squared_error(y_test, yhat_OOB)))"
      ]
    },
    {
      "cell_type": "markdown",
      "metadata": {
        "id": "oTNljxKDu85i"
      },
      "source": [
        "### MSE Graph for Ensemble Models"
      ]
    },
    {
      "cell_type": "code",
      "execution_count": null,
      "metadata": {
        "id": "ek_5FEGbux_J"
      },
      "outputs": [],
      "source": [
        "trees = [int(x) for x in np.linspace(10, 300, 30)]\n",
        "mse_boost = []\n",
        "mse_bag = []\n",
        "mse_rfnaive = []\n",
        "mse_rf_tuned = []\n",
        "\n",
        "for t in trees:\n",
        "    boost_plt = AdaBoostRegressor(base_estimator = RandomForestRegressor(n_estimators= 500, max_features = int((X_train.shape[1])//2), **rf_cv.best_params_ ),  n_estimators = t) # **boost_cv.best_params_\n",
        "    boost_plt.fit(X_train, y_train)\n",
        "    mse_boost.append(mean_squared_error(y_test, boost_plt.predict(X_test)))\n",
        "\n",
        "    br_plt = BaggingRegressor(oob_score = True, n_estimators = t, max_features = 0.9)\n",
        "    br_plt.fit(X_train, y_train)\n",
        "    mse_bag.append(mean_squared_error(y_test,br_plt.predict(X_test)))\n",
        "\n",
        "    rf = RandomForestRegressor(n_estimators = t, max_features = int((X_train.shape[1])//2), **rf_cv.best_params_)\n",
        "    rf.fit(X_train, y_train)\n",
        "    mse_rf_tuned.append(mean_squared_error(y_test, rf.predict(X_test)))\n",
        "\n",
        "    rf_naive = RandomForestRegressor(n_estimators = t)\n",
        "    rf_naive.fit(X_train, y_train)\n",
        "    mse_rfnaive.append(mean_squared_error(y_test, rf_naive.predict(X_test)))"
      ]
    },
    {
      "cell_type": "code",
      "execution_count": null,
      "metadata": {
        "id": "e_gn49SNvZAU"
      },
      "outputs": [],
      "source": [
        "plt.plot(trees, mse_boost, label = 'Boosting RF')\n",
        "plt.plot(trees, mse_bag, label = 'Bagging OOB')\n",
        "plt.plot(trees, mse_rfnaive, label = 'RF Naive')\n",
        "plt.plot(trees, mse_rf_tuned, label = 'RF Tuned')\n",
        "plt.legend()\n",
        "plt.xlabel('Number of Trees')\n",
        "plt.ylabel('MSE')\n",
        "plt.title('MSE as a Function of Number of Trees')"
      ]
    },
    {
      "cell_type": "markdown",
      "metadata": {
        "id": "szsVxpSXutsr"
      },
      "source": [
        "# Model Plots"
      ]
    },
    {
      "cell_type": "code",
      "execution_count": null,
      "metadata": {
        "id": "J2juiqrXpd50"
      },
      "outputs": [],
      "source": [
        "x = [\"Naive\", \"KNN\",\n",
        "     \"Forward Selection\", \"Backward Selection\",\n",
        "     \"Ridge\", \"Elastic Nets\", \"Linear Regression\", \"Lasso\",\n",
        "     \"Random Forests\"]\n",
        "\n",
        "y = [9.284371520905635, 6.360971885102549,\n",
        "     6.239768042199911, 6.213195074808944,\n",
        "     6.186043694266161, 6.183342434081539, 6.182908851402489, 6.17973634155773,\n",
        "     4.562806583134369]\n",
        "\n",
        "plt.bar(x,y,color=\"red\")\n",
        "plt.xticks(x, rotation='vertical')\n",
        "\n",
        "plt.xlabel(\"Test Root Mean Squared Error\")\n",
        "plt.ylabel(\"Model Name\")\n",
        "plt.title(\"Test RMSE Across Models\")\n",
        "plt.legend()\n",
        "plt.show()"
      ]
    }
  ],
  "metadata": {
    "colab": {
      "provenance": [],
      "include_colab_link": true
    },
    "kernelspec": {
      "display_name": "Python 3",
      "name": "python3"
    },
    "language_info": {
      "name": "python"
    }
  },
  "nbformat": 4,
  "nbformat_minor": 0
}